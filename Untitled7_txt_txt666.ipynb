{
  "nbformat": 4,
  "nbformat_minor": 0,
  "metadata": {
    "colab": {
      "name": "Untitled17.ipynb",
      "provenance": []
    },
    "kernelspec": {
      "name": "python3",
      "display_name": "Python 3"
    },
    "language_info": {
      "name": "python"
    }
  },
  "cells": [
    {
      "cell_type": "code",
      "metadata": {
        "colab": {
          "base_uri": "https://localhost:8080/"
        },
        "id": "jKO2BiWBxNmr",
        "outputId": "24327888-8c62-4f75-8e87-a72dcfdef9b3"
      },
      "source": [
        "!wget --header=\"Host: storage.googleapis.com\" --header=\"User-Agent: Mozilla/5.0 (Windows NT 10.0; Win64; x64) AppleWebKit/537.36 (KHTML, like Gecko) Chrome/96.0.4664.45 Safari/537.36\" --header=\"Accept: text/html,application/xhtml+xml,application/xml;q=0.9,image/avif,image/webp,image/apng,*/*;q=0.8,application/signed-exchange;v=b3;q=0.9\" --header=\"Accept-Language: en-US,en;q=0.9\" --header=\"Referer: https://www.kaggle.com/\" \"https://storage.googleapis.com/kaggle-competitions-data/kaggle-v2/3816/32105/bundle/archive.zip?GoogleAccessId=web-data@kaggle-161607.iam.gserviceaccount.com&Expires=1638507469&Signature=kHIcSWe23Q5dBK%2BWiq58DY86VD3wk1npTCvvL2YxYS26v0Q7eRC3UUiUP%2FZ7%2BWy3eJvsfYoXvRwPs7arhdxodKZEX7lbdBcMRcTbymuDWSbtRyu3ss7iKujICzVAZ8piEELBxo1v2IFORon6JlYpzb2QIKZB7R2jW11f7ikAAxNhCpgrIDKs64Ajz5EuiFJZ0EdJKwle5tgdYtaQUydIGFVog47hPtJCV6ajlPQPtzIW0mdg8cVRPOgPumTkXERq%2FiNvW6xQQlmbwvEssZGT5CZXnrv6reJiC7swPXqP8og9fq27IEdVRmm%2FKTcuEgjsTJEDJZpvA1t0eWTfgIdZBw%3D%3D&response-content-disposition=attachment%3B+filename%3Dwalmart-recruiting-store-sales-forecasting.zip\" -c -O 'walmart-recruiting-store-sales-forecasting.zip'"
      ],
      "execution_count": 1,
      "outputs": [
        {
          "output_type": "stream",
          "name": "stdout",
          "text": [
            "--2021-11-30 04:58:20--  https://storage.googleapis.com/kaggle-competitions-data/kaggle-v2/3816/32105/bundle/archive.zip?GoogleAccessId=web-data@kaggle-161607.iam.gserviceaccount.com&Expires=1638507469&Signature=kHIcSWe23Q5dBK%2BWiq58DY86VD3wk1npTCvvL2YxYS26v0Q7eRC3UUiUP%2FZ7%2BWy3eJvsfYoXvRwPs7arhdxodKZEX7lbdBcMRcTbymuDWSbtRyu3ss7iKujICzVAZ8piEELBxo1v2IFORon6JlYpzb2QIKZB7R2jW11f7ikAAxNhCpgrIDKs64Ajz5EuiFJZ0EdJKwle5tgdYtaQUydIGFVog47hPtJCV6ajlPQPtzIW0mdg8cVRPOgPumTkXERq%2FiNvW6xQQlmbwvEssZGT5CZXnrv6reJiC7swPXqP8og9fq27IEdVRmm%2FKTcuEgjsTJEDJZpvA1t0eWTfgIdZBw%3D%3D&response-content-disposition=attachment%3B+filename%3Dwalmart-recruiting-store-sales-forecasting.zip\n",
            "Resolving storage.googleapis.com (storage.googleapis.com)... 173.194.194.128, 173.194.196.128, 173.194.197.128, ...\n",
            "Connecting to storage.googleapis.com (storage.googleapis.com)|173.194.194.128|:443... connected.\n",
            "HTTP request sent, awaiting response... 200 OK\n",
            "Length: 2827397 (2.7M) [application/zip]\n",
            "Saving to: ‘walmart-recruiting-store-sales-forecasting.zip’\n",
            "\n",
            "\r          walmart-r   0%[                    ]       0  --.-KB/s               \rwalmart-recruiting- 100%[===================>]   2.70M  --.-KB/s    in 0.02s   \n",
            "\n",
            "2021-11-30 04:58:20 (161 MB/s) - ‘walmart-recruiting-store-sales-forecasting.zip’ saved [2827397/2827397]\n",
            "\n"
          ]
        }
      ]
    },
    {
      "cell_type": "code",
      "metadata": {
        "colab": {
          "base_uri": "https://localhost:8080/"
        },
        "id": "EP27q7JyNRQC",
        "outputId": "1ede88ff-f6f6-46d8-cd91-1addfdf183e4"
      },
      "source": [
        "!unzip /content/walmart-recruiting-store-sales-forecasting.zip"
      ],
      "execution_count": 2,
      "outputs": [
        {
          "output_type": "stream",
          "name": "stdout",
          "text": [
            "Archive:  /content/walmart-recruiting-store-sales-forecasting.zip\n",
            "  inflating: features.csv.zip        \n",
            "  inflating: sampleSubmission.csv.zip  \n",
            "  inflating: stores.csv              \n",
            "  inflating: test.csv.zip            \n",
            "  inflating: train.csv.zip           \n"
          ]
        }
      ]
    },
    {
      "cell_type": "code",
      "metadata": {
        "colab": {
          "base_uri": "https://localhost:8080/"
        },
        "id": "13J047LDNU3u",
        "outputId": "44ddfc78-46de-47cd-c2d3-5f8a945f37a6"
      },
      "source": [
        "!unzip train.csv\n",
        "!unzip test.csv\n",
        "!unzip features.csv"
      ],
      "execution_count": 3,
      "outputs": [
        {
          "output_type": "stream",
          "name": "stdout",
          "text": [
            "Archive:  train.csv.zip\n",
            "  inflating: train.csv               \n",
            "Archive:  test.csv.zip\n",
            "  inflating: test.csv                \n",
            "Archive:  features.csv.zip\n",
            "  inflating: features.csv            \n"
          ]
        }
      ]
    },
    {
      "cell_type": "code",
      "metadata": {
        "id": "MLqrzr0uNW5-"
      },
      "source": [
        "\n",
        "import pandas as pd\n",
        "import matplotlib.pyplot as plt\n",
        "import seaborn as sns\n",
        "import numpy as np\n",
        "from scipy.stats import norm\n",
        "from sklearn.preprocessing import StandardScaler\n",
        "from scipy import stats\n",
        "import warnings\n",
        "warnings.filterwarnings('ignore')\n",
        "%matplotlib inline\n",
        "import pandas_profiling as pan\n",
        "from sklearn.model_selection import GridSearchCV, RandomizedSearchCV\n",
        "from sklearn.pipeline import Pipeline\n",
        "from sklearn.decomposition import PCA\n",
        "from sklearn.metrics import make_scorer\n",
        "from sklearn.preprocessing import StandardScaler\n",
        "from sklearn.ensemble import RandomForestRegressor, ExtraTreesRegressor\n",
        "from sklearn.neural_network import MLPRegressor\n",
        "from sklearn.neighbors import KNeighborsRegressor\n",
        "from xgboost import XGBRegressor\n",
        "import numpy as np"
      ],
      "execution_count": 6,
      "outputs": []
    },
    {
      "cell_type": "code",
      "metadata": {
        "id": "CzhhlLGqNY5e"
      },
      "source": [
        "train = pd.read_csv('train.csv')\n",
        "#print(train.info())\n",
        "test = pd.read_csv('test.csv')\n",
        "#print(test.info())\n",
        "features = pd.read_csv('features.csv')\n",
        "#print(features.info())\n",
        "stores = pd.read_csv('/content/stores.csv')\n",
        "#simply using merge function to merge the datasets.\n",
        "df_train = train.merge(stores,how = 'left').merge(features,how = 'left')\n",
        "df_test = test.merge(stores,how = 'left').merge(features,how = 'left')"
      ],
      "execution_count": 7,
      "outputs": []
    },
    {
      "cell_type": "code",
      "metadata": {
        "id": "PKN9LN-SNkAB"
      },
      "source": [
        "df_train = df_train.drop(['MarkDown1','MarkDown2','MarkDown3','MarkDown4','MarkDown5','Fuel_Price',\"Temperature\",\"CPI\",\"Unemployment\"],axis = 1)"
      ],
      "execution_count": 8,
      "outputs": []
    },
    {
      "cell_type": "code",
      "metadata": {
        "id": "aktb9FMmNmya"
      },
      "source": [
        "df_test = df_test.drop(['MarkDown1','MarkDown2','MarkDown3','MarkDown4','MarkDown5','Fuel_Price',\"Temperature\",\"CPI\",\"Unemployment\"],axis = 1)"
      ],
      "execution_count": 9,
      "outputs": []
    },
    {
      "cell_type": "code",
      "metadata": {
        "id": "o4-7YCLuNoza"
      },
      "source": [
        "df_train.Type = df_train['Type'].map({'A':1,'B':2,'C':3})\n",
        "df_test.Type = df_test['Type'].map({'A':1,'B':2,'C':3})"
      ],
      "execution_count": 10,
      "outputs": []
    },
    {
      "cell_type": "code",
      "metadata": {
        "id": "Um2eRa2ANqif"
      },
      "source": [
        "df_train.IsHoliday = df_train['IsHoliday'].map({False:0,True:1})\n",
        "df_test.IsHoliday = df_test['IsHoliday'].map({False:0,True:1})"
      ],
      "execution_count": 11,
      "outputs": []
    },
    {
      "cell_type": "code",
      "metadata": {
        "colab": {
          "base_uri": "https://localhost:8080/",
          "height": 423
        },
        "id": "027_FnFoNtlg",
        "outputId": "fdd42dc1-9083-4d95-e65d-f82311ded686"
      },
      "source": [
        "df_train"
      ],
      "execution_count": 12,
      "outputs": [
        {
          "output_type": "execute_result",
          "data": {
            "text/html": [
              "<div>\n",
              "<style scoped>\n",
              "    .dataframe tbody tr th:only-of-type {\n",
              "        vertical-align: middle;\n",
              "    }\n",
              "\n",
              "    .dataframe tbody tr th {\n",
              "        vertical-align: top;\n",
              "    }\n",
              "\n",
              "    .dataframe thead th {\n",
              "        text-align: right;\n",
              "    }\n",
              "</style>\n",
              "<table border=\"1\" class=\"dataframe\">\n",
              "  <thead>\n",
              "    <tr style=\"text-align: right;\">\n",
              "      <th></th>\n",
              "      <th>Store</th>\n",
              "      <th>Dept</th>\n",
              "      <th>Date</th>\n",
              "      <th>Weekly_Sales</th>\n",
              "      <th>IsHoliday</th>\n",
              "      <th>Type</th>\n",
              "      <th>Size</th>\n",
              "    </tr>\n",
              "  </thead>\n",
              "  <tbody>\n",
              "    <tr>\n",
              "      <th>0</th>\n",
              "      <td>1</td>\n",
              "      <td>1</td>\n",
              "      <td>2010-02-05</td>\n",
              "      <td>24924.50</td>\n",
              "      <td>0</td>\n",
              "      <td>1</td>\n",
              "      <td>151315</td>\n",
              "    </tr>\n",
              "    <tr>\n",
              "      <th>1</th>\n",
              "      <td>1</td>\n",
              "      <td>1</td>\n",
              "      <td>2010-02-12</td>\n",
              "      <td>46039.49</td>\n",
              "      <td>1</td>\n",
              "      <td>1</td>\n",
              "      <td>151315</td>\n",
              "    </tr>\n",
              "    <tr>\n",
              "      <th>2</th>\n",
              "      <td>1</td>\n",
              "      <td>1</td>\n",
              "      <td>2010-02-19</td>\n",
              "      <td>41595.55</td>\n",
              "      <td>0</td>\n",
              "      <td>1</td>\n",
              "      <td>151315</td>\n",
              "    </tr>\n",
              "    <tr>\n",
              "      <th>3</th>\n",
              "      <td>1</td>\n",
              "      <td>1</td>\n",
              "      <td>2010-02-26</td>\n",
              "      <td>19403.54</td>\n",
              "      <td>0</td>\n",
              "      <td>1</td>\n",
              "      <td>151315</td>\n",
              "    </tr>\n",
              "    <tr>\n",
              "      <th>4</th>\n",
              "      <td>1</td>\n",
              "      <td>1</td>\n",
              "      <td>2010-03-05</td>\n",
              "      <td>21827.90</td>\n",
              "      <td>0</td>\n",
              "      <td>1</td>\n",
              "      <td>151315</td>\n",
              "    </tr>\n",
              "    <tr>\n",
              "      <th>...</th>\n",
              "      <td>...</td>\n",
              "      <td>...</td>\n",
              "      <td>...</td>\n",
              "      <td>...</td>\n",
              "      <td>...</td>\n",
              "      <td>...</td>\n",
              "      <td>...</td>\n",
              "    </tr>\n",
              "    <tr>\n",
              "      <th>421565</th>\n",
              "      <td>45</td>\n",
              "      <td>98</td>\n",
              "      <td>2012-09-28</td>\n",
              "      <td>508.37</td>\n",
              "      <td>0</td>\n",
              "      <td>2</td>\n",
              "      <td>118221</td>\n",
              "    </tr>\n",
              "    <tr>\n",
              "      <th>421566</th>\n",
              "      <td>45</td>\n",
              "      <td>98</td>\n",
              "      <td>2012-10-05</td>\n",
              "      <td>628.10</td>\n",
              "      <td>0</td>\n",
              "      <td>2</td>\n",
              "      <td>118221</td>\n",
              "    </tr>\n",
              "    <tr>\n",
              "      <th>421567</th>\n",
              "      <td>45</td>\n",
              "      <td>98</td>\n",
              "      <td>2012-10-12</td>\n",
              "      <td>1061.02</td>\n",
              "      <td>0</td>\n",
              "      <td>2</td>\n",
              "      <td>118221</td>\n",
              "    </tr>\n",
              "    <tr>\n",
              "      <th>421568</th>\n",
              "      <td>45</td>\n",
              "      <td>98</td>\n",
              "      <td>2012-10-19</td>\n",
              "      <td>760.01</td>\n",
              "      <td>0</td>\n",
              "      <td>2</td>\n",
              "      <td>118221</td>\n",
              "    </tr>\n",
              "    <tr>\n",
              "      <th>421569</th>\n",
              "      <td>45</td>\n",
              "      <td>98</td>\n",
              "      <td>2012-10-26</td>\n",
              "      <td>1076.80</td>\n",
              "      <td>0</td>\n",
              "      <td>2</td>\n",
              "      <td>118221</td>\n",
              "    </tr>\n",
              "  </tbody>\n",
              "</table>\n",
              "<p>421570 rows × 7 columns</p>\n",
              "</div>"
            ],
            "text/plain": [
              "        Store  Dept        Date  Weekly_Sales  IsHoliday  Type    Size\n",
              "0           1     1  2010-02-05      24924.50          0     1  151315\n",
              "1           1     1  2010-02-12      46039.49          1     1  151315\n",
              "2           1     1  2010-02-19      41595.55          0     1  151315\n",
              "3           1     1  2010-02-26      19403.54          0     1  151315\n",
              "4           1     1  2010-03-05      21827.90          0     1  151315\n",
              "...       ...   ...         ...           ...        ...   ...     ...\n",
              "421565     45    98  2012-09-28        508.37          0     2  118221\n",
              "421566     45    98  2012-10-05        628.10          0     2  118221\n",
              "421567     45    98  2012-10-12       1061.02          0     2  118221\n",
              "421568     45    98  2012-10-19        760.01          0     2  118221\n",
              "421569     45    98  2012-10-26       1076.80          0     2  118221\n",
              "\n",
              "[421570 rows x 7 columns]"
            ]
          },
          "metadata": {},
          "execution_count": 12
        }
      ]
    },
    {
      "cell_type": "code",
      "metadata": {
        "id": "lS8OLT_ENvC3"
      },
      "source": [
        "df_train['Date'] = pd.to_datetime(df_train['Date'], errors='coerce')\n",
        "df_train['year'] = df_train['Date'].dt.year\n",
        "df_train['month'] = df_train['Date'].dt.month\n",
        "df_train['week'] = df_train['Date'].dt.week"
      ],
      "execution_count": 13,
      "outputs": []
    },
    {
      "cell_type": "code",
      "metadata": {
        "colab": {
          "base_uri": "https://localhost:8080/",
          "height": 423
        },
        "id": "q0hBf_c7NwtP",
        "outputId": "b458100b-82cc-4107-baf5-3fda1bfa2147"
      },
      "source": [
        "df_train"
      ],
      "execution_count": 14,
      "outputs": [
        {
          "output_type": "execute_result",
          "data": {
            "text/html": [
              "<div>\n",
              "<style scoped>\n",
              "    .dataframe tbody tr th:only-of-type {\n",
              "        vertical-align: middle;\n",
              "    }\n",
              "\n",
              "    .dataframe tbody tr th {\n",
              "        vertical-align: top;\n",
              "    }\n",
              "\n",
              "    .dataframe thead th {\n",
              "        text-align: right;\n",
              "    }\n",
              "</style>\n",
              "<table border=\"1\" class=\"dataframe\">\n",
              "  <thead>\n",
              "    <tr style=\"text-align: right;\">\n",
              "      <th></th>\n",
              "      <th>Store</th>\n",
              "      <th>Dept</th>\n",
              "      <th>Date</th>\n",
              "      <th>Weekly_Sales</th>\n",
              "      <th>IsHoliday</th>\n",
              "      <th>Type</th>\n",
              "      <th>Size</th>\n",
              "      <th>year</th>\n",
              "      <th>month</th>\n",
              "      <th>week</th>\n",
              "    </tr>\n",
              "  </thead>\n",
              "  <tbody>\n",
              "    <tr>\n",
              "      <th>0</th>\n",
              "      <td>1</td>\n",
              "      <td>1</td>\n",
              "      <td>2010-02-05</td>\n",
              "      <td>24924.50</td>\n",
              "      <td>0</td>\n",
              "      <td>1</td>\n",
              "      <td>151315</td>\n",
              "      <td>2010</td>\n",
              "      <td>2</td>\n",
              "      <td>5</td>\n",
              "    </tr>\n",
              "    <tr>\n",
              "      <th>1</th>\n",
              "      <td>1</td>\n",
              "      <td>1</td>\n",
              "      <td>2010-02-12</td>\n",
              "      <td>46039.49</td>\n",
              "      <td>1</td>\n",
              "      <td>1</td>\n",
              "      <td>151315</td>\n",
              "      <td>2010</td>\n",
              "      <td>2</td>\n",
              "      <td>6</td>\n",
              "    </tr>\n",
              "    <tr>\n",
              "      <th>2</th>\n",
              "      <td>1</td>\n",
              "      <td>1</td>\n",
              "      <td>2010-02-19</td>\n",
              "      <td>41595.55</td>\n",
              "      <td>0</td>\n",
              "      <td>1</td>\n",
              "      <td>151315</td>\n",
              "      <td>2010</td>\n",
              "      <td>2</td>\n",
              "      <td>7</td>\n",
              "    </tr>\n",
              "    <tr>\n",
              "      <th>3</th>\n",
              "      <td>1</td>\n",
              "      <td>1</td>\n",
              "      <td>2010-02-26</td>\n",
              "      <td>19403.54</td>\n",
              "      <td>0</td>\n",
              "      <td>1</td>\n",
              "      <td>151315</td>\n",
              "      <td>2010</td>\n",
              "      <td>2</td>\n",
              "      <td>8</td>\n",
              "    </tr>\n",
              "    <tr>\n",
              "      <th>4</th>\n",
              "      <td>1</td>\n",
              "      <td>1</td>\n",
              "      <td>2010-03-05</td>\n",
              "      <td>21827.90</td>\n",
              "      <td>0</td>\n",
              "      <td>1</td>\n",
              "      <td>151315</td>\n",
              "      <td>2010</td>\n",
              "      <td>3</td>\n",
              "      <td>9</td>\n",
              "    </tr>\n",
              "    <tr>\n",
              "      <th>...</th>\n",
              "      <td>...</td>\n",
              "      <td>...</td>\n",
              "      <td>...</td>\n",
              "      <td>...</td>\n",
              "      <td>...</td>\n",
              "      <td>...</td>\n",
              "      <td>...</td>\n",
              "      <td>...</td>\n",
              "      <td>...</td>\n",
              "      <td>...</td>\n",
              "    </tr>\n",
              "    <tr>\n",
              "      <th>421565</th>\n",
              "      <td>45</td>\n",
              "      <td>98</td>\n",
              "      <td>2012-09-28</td>\n",
              "      <td>508.37</td>\n",
              "      <td>0</td>\n",
              "      <td>2</td>\n",
              "      <td>118221</td>\n",
              "      <td>2012</td>\n",
              "      <td>9</td>\n",
              "      <td>39</td>\n",
              "    </tr>\n",
              "    <tr>\n",
              "      <th>421566</th>\n",
              "      <td>45</td>\n",
              "      <td>98</td>\n",
              "      <td>2012-10-05</td>\n",
              "      <td>628.10</td>\n",
              "      <td>0</td>\n",
              "      <td>2</td>\n",
              "      <td>118221</td>\n",
              "      <td>2012</td>\n",
              "      <td>10</td>\n",
              "      <td>40</td>\n",
              "    </tr>\n",
              "    <tr>\n",
              "      <th>421567</th>\n",
              "      <td>45</td>\n",
              "      <td>98</td>\n",
              "      <td>2012-10-12</td>\n",
              "      <td>1061.02</td>\n",
              "      <td>0</td>\n",
              "      <td>2</td>\n",
              "      <td>118221</td>\n",
              "      <td>2012</td>\n",
              "      <td>10</td>\n",
              "      <td>41</td>\n",
              "    </tr>\n",
              "    <tr>\n",
              "      <th>421568</th>\n",
              "      <td>45</td>\n",
              "      <td>98</td>\n",
              "      <td>2012-10-19</td>\n",
              "      <td>760.01</td>\n",
              "      <td>0</td>\n",
              "      <td>2</td>\n",
              "      <td>118221</td>\n",
              "      <td>2012</td>\n",
              "      <td>10</td>\n",
              "      <td>42</td>\n",
              "    </tr>\n",
              "    <tr>\n",
              "      <th>421569</th>\n",
              "      <td>45</td>\n",
              "      <td>98</td>\n",
              "      <td>2012-10-26</td>\n",
              "      <td>1076.80</td>\n",
              "      <td>0</td>\n",
              "      <td>2</td>\n",
              "      <td>118221</td>\n",
              "      <td>2012</td>\n",
              "      <td>10</td>\n",
              "      <td>43</td>\n",
              "    </tr>\n",
              "  </tbody>\n",
              "</table>\n",
              "<p>421570 rows × 10 columns</p>\n",
              "</div>"
            ],
            "text/plain": [
              "        Store  Dept       Date  Weekly_Sales  ...    Size  year  month  week\n",
              "0           1     1 2010-02-05      24924.50  ...  151315  2010      2     5\n",
              "1           1     1 2010-02-12      46039.49  ...  151315  2010      2     6\n",
              "2           1     1 2010-02-19      41595.55  ...  151315  2010      2     7\n",
              "3           1     1 2010-02-26      19403.54  ...  151315  2010      2     8\n",
              "4           1     1 2010-03-05      21827.90  ...  151315  2010      3     9\n",
              "...       ...   ...        ...           ...  ...     ...   ...    ...   ...\n",
              "421565     45    98 2012-09-28        508.37  ...  118221  2012      9    39\n",
              "421566     45    98 2012-10-05        628.10  ...  118221  2012     10    40\n",
              "421567     45    98 2012-10-12       1061.02  ...  118221  2012     10    41\n",
              "421568     45    98 2012-10-19        760.01  ...  118221  2012     10    42\n",
              "421569     45    98 2012-10-26       1076.80  ...  118221  2012     10    43\n",
              "\n",
              "[421570 rows x 10 columns]"
            ]
          },
          "metadata": {},
          "execution_count": 14
        }
      ]
    },
    {
      "cell_type": "code",
      "metadata": {
        "id": "60LXF_IcNyHH"
      },
      "source": [
        "y_train =  df_train[\"Weekly_Sales\"]"
      ],
      "execution_count": 15,
      "outputs": []
    },
    {
      "cell_type": "code",
      "metadata": {
        "id": "ZEc015ifN0Kn"
      },
      "source": [
        "df_train =df_train.drop(['Date',\"Weekly_Sales\"],axis = 1)"
      ],
      "execution_count": 16,
      "outputs": []
    },
    {
      "cell_type": "code",
      "metadata": {
        "id": "7AJm3QoSN2Y3"
      },
      "source": [
        "from sklearn.model_selection import train_test_split"
      ],
      "execution_count": 17,
      "outputs": []
    },
    {
      "cell_type": "code",
      "metadata": {
        "id": "aHyTONHEN4uf"
      },
      "source": [
        "def WMAE(dataset, real, predicted):\n",
        "    weights = dataset.IsHoliday.apply(lambda x: 5 if x else 1)\n",
        "    return np.round(np.sum(weights*abs(real-predicted))/(np.sum(weights)), 2)"
      ],
      "execution_count": 18,
      "outputs": []
    },
    {
      "cell_type": "code",
      "metadata": {
        "id": "3OiukswbN7GO"
      },
      "source": [
        "from sklearn.model_selection import train_test_split\n",
        "X_train, X_test, y_train, y_test = train_test_split(df_train, y_train, test_size=0.33, random_state=42)"
      ],
      "execution_count": 19,
      "outputs": []
    },
    {
      "cell_type": "code",
      "metadata": {
        "colab": {
          "base_uri": "https://localhost:8080/"
        },
        "id": "bbTD2OHWN8-G",
        "outputId": "615a91f0-e916-4067-b722-b0597b6a0658"
      },
      "source": [
        "from sklearn.ensemble import RandomForestRegressor\n",
        "model = RandomForestRegressor(random_state = 42).fit(X_train,y_train)\n",
        "y_pred = model.predict(X_test)\n",
        "print(WMAE(X_test,y_test,y_pred))"
      ],
      "execution_count": 20,
      "outputs": [
        {
          "output_type": "stream",
          "name": "stdout",
          "text": [
            "1583.47\n"
          ]
        }
      ]
    },
    {
      "cell_type": "code",
      "metadata": {
        "id": "SC12MRqcN_FG"
      },
      "source": [
        "y_pred = model.predict(X_test)"
      ],
      "execution_count": 21,
      "outputs": []
    },
    {
      "cell_type": "code",
      "metadata": {
        "id": "Tl1ldLv5OAy2"
      },
      "source": [
        "X_test['y_test'] = y_test\n",
        "X_test['y_pred'] = y_pred"
      ],
      "execution_count": 22,
      "outputs": []
    },
    {
      "cell_type": "code",
      "metadata": {
        "id": "J0ixJkPYQpN7"
      },
      "source": [
        "X_test['error'] = round((abs(y_test-y_pred)),2)"
      ],
      "execution_count": 23,
      "outputs": []
    },
    {
      "cell_type": "code",
      "metadata": {
        "id": "0Kt0SgTkQqzS"
      },
      "source": [
        "X_test.sort_values('error',inplace = True)"
      ],
      "execution_count": 24,
      "outputs": []
    },
    {
      "cell_type": "code",
      "metadata": {
        "id": "XjTS9Vb2fTsk",
        "outputId": "bff2577f-253b-4513-843e-a2844eb3eb4b",
        "colab": {
          "base_uri": "https://localhost:8080/",
          "height": 423
        }
      },
      "source": [
        "X_test"
      ],
      "execution_count": 89,
      "outputs": [
        {
          "output_type": "execute_result",
          "data": {
            "text/html": [
              "<div>\n",
              "<style scoped>\n",
              "    .dataframe tbody tr th:only-of-type {\n",
              "        vertical-align: middle;\n",
              "    }\n",
              "\n",
              "    .dataframe tbody tr th {\n",
              "        vertical-align: top;\n",
              "    }\n",
              "\n",
              "    .dataframe thead th {\n",
              "        text-align: right;\n",
              "    }\n",
              "</style>\n",
              "<table border=\"1\" class=\"dataframe\">\n",
              "  <thead>\n",
              "    <tr style=\"text-align: right;\">\n",
              "      <th></th>\n",
              "      <th>Store</th>\n",
              "      <th>Dept</th>\n",
              "      <th>IsHoliday</th>\n",
              "      <th>Type</th>\n",
              "      <th>Size</th>\n",
              "      <th>year</th>\n",
              "      <th>month</th>\n",
              "      <th>week</th>\n",
              "      <th>y_test</th>\n",
              "      <th>y_pred</th>\n",
              "      <th>error</th>\n",
              "    </tr>\n",
              "  </thead>\n",
              "  <tbody>\n",
              "    <tr>\n",
              "      <th>290471</th>\n",
              "      <td>30</td>\n",
              "      <td>52</td>\n",
              "      <td>0</td>\n",
              "      <td>3</td>\n",
              "      <td>42988</td>\n",
              "      <td>2010</td>\n",
              "      <td>7</td>\n",
              "      <td>27</td>\n",
              "      <td>16.12</td>\n",
              "      <td>16.1207</td>\n",
              "      <td>0.00</td>\n",
              "    </tr>\n",
              "    <tr>\n",
              "      <th>400602</th>\n",
              "      <td>43</td>\n",
              "      <td>23</td>\n",
              "      <td>0</td>\n",
              "      <td>3</td>\n",
              "      <td>41062</td>\n",
              "      <td>2012</td>\n",
              "      <td>3</td>\n",
              "      <td>13</td>\n",
              "      <td>47.04</td>\n",
              "      <td>47.0449</td>\n",
              "      <td>0.00</td>\n",
              "    </tr>\n",
              "    <tr>\n",
              "      <th>115477</th>\n",
              "      <td>12</td>\n",
              "      <td>78</td>\n",
              "      <td>0</td>\n",
              "      <td>2</td>\n",
              "      <td>112238</td>\n",
              "      <td>2010</td>\n",
              "      <td>4</td>\n",
              "      <td>17</td>\n",
              "      <td>12.00</td>\n",
              "      <td>12.0000</td>\n",
              "      <td>0.00</td>\n",
              "    </tr>\n",
              "    <tr>\n",
              "      <th>315493</th>\n",
              "      <td>33</td>\n",
              "      <td>12</td>\n",
              "      <td>0</td>\n",
              "      <td>1</td>\n",
              "      <td>39690</td>\n",
              "      <td>2010</td>\n",
              "      <td>8</td>\n",
              "      <td>32</td>\n",
              "      <td>18.08</td>\n",
              "      <td>18.0799</td>\n",
              "      <td>0.00</td>\n",
              "    </tr>\n",
              "    <tr>\n",
              "      <th>82215</th>\n",
              "      <td>9</td>\n",
              "      <td>27</td>\n",
              "      <td>0</td>\n",
              "      <td>2</td>\n",
              "      <td>125833</td>\n",
              "      <td>2010</td>\n",
              "      <td>5</td>\n",
              "      <td>21</td>\n",
              "      <td>418.00</td>\n",
              "      <td>418.0000</td>\n",
              "      <td>0.00</td>\n",
              "    </tr>\n",
              "    <tr>\n",
              "      <th>...</th>\n",
              "      <td>...</td>\n",
              "      <td>...</td>\n",
              "      <td>...</td>\n",
              "      <td>...</td>\n",
              "      <td>...</td>\n",
              "      <td>...</td>\n",
              "      <td>...</td>\n",
              "      <td>...</td>\n",
              "      <td>...</td>\n",
              "      <td>...</td>\n",
              "      <td>...</td>\n",
              "    </tr>\n",
              "    <tr>\n",
              "      <th>244587</th>\n",
              "      <td>25</td>\n",
              "      <td>72</td>\n",
              "      <td>1</td>\n",
              "      <td>2</td>\n",
              "      <td>128107</td>\n",
              "      <td>2011</td>\n",
              "      <td>11</td>\n",
              "      <td>47</td>\n",
              "      <td>189532.67</td>\n",
              "      <td>384172.3785</td>\n",
              "      <td>194639.71</td>\n",
              "    </tr>\n",
              "    <tr>\n",
              "      <th>244535</th>\n",
              "      <td>25</td>\n",
              "      <td>72</td>\n",
              "      <td>1</td>\n",
              "      <td>2</td>\n",
              "      <td>128107</td>\n",
              "      <td>2010</td>\n",
              "      <td>11</td>\n",
              "      <td>47</td>\n",
              "      <td>198719.71</td>\n",
              "      <td>413820.3813</td>\n",
              "      <td>215100.67</td>\n",
              "    </tr>\n",
              "    <tr>\n",
              "      <th>88480</th>\n",
              "      <td>10</td>\n",
              "      <td>7</td>\n",
              "      <td>0</td>\n",
              "      <td>2</td>\n",
              "      <td>126512</td>\n",
              "      <td>2011</td>\n",
              "      <td>12</td>\n",
              "      <td>51</td>\n",
              "      <td>341308.00</td>\n",
              "      <td>123789.4037</td>\n",
              "      <td>217518.60</td>\n",
              "    </tr>\n",
              "    <tr>\n",
              "      <th>85732</th>\n",
              "      <td>9</td>\n",
              "      <td>72</td>\n",
              "      <td>1</td>\n",
              "      <td>2</td>\n",
              "      <td>125833</td>\n",
              "      <td>2010</td>\n",
              "      <td>11</td>\n",
              "      <td>47</td>\n",
              "      <td>123645.00</td>\n",
              "      <td>347362.0331</td>\n",
              "      <td>223717.03</td>\n",
              "    </tr>\n",
              "    <tr>\n",
              "      <th>88428</th>\n",
              "      <td>10</td>\n",
              "      <td>7</td>\n",
              "      <td>0</td>\n",
              "      <td>2</td>\n",
              "      <td>126512</td>\n",
              "      <td>2010</td>\n",
              "      <td>12</td>\n",
              "      <td>51</td>\n",
              "      <td>406988.63</td>\n",
              "      <td>172235.3604</td>\n",
              "      <td>234753.27</td>\n",
              "    </tr>\n",
              "  </tbody>\n",
              "</table>\n",
              "<p>139119 rows × 11 columns</p>\n",
              "</div>"
            ],
            "text/plain": [
              "        Store  Dept  IsHoliday  Type  ...  week     y_test       y_pred      error\n",
              "290471     30    52          0     3  ...    27      16.12      16.1207       0.00\n",
              "400602     43    23          0     3  ...    13      47.04      47.0449       0.00\n",
              "115477     12    78          0     2  ...    17      12.00      12.0000       0.00\n",
              "315493     33    12          0     1  ...    32      18.08      18.0799       0.00\n",
              "82215       9    27          0     2  ...    21     418.00     418.0000       0.00\n",
              "...       ...   ...        ...   ...  ...   ...        ...          ...        ...\n",
              "244587     25    72          1     2  ...    47  189532.67  384172.3785  194639.71\n",
              "244535     25    72          1     2  ...    47  198719.71  413820.3813  215100.67\n",
              "88480      10     7          0     2  ...    51  341308.00  123789.4037  217518.60\n",
              "85732       9    72          1     2  ...    47  123645.00  347362.0331  223717.03\n",
              "88428      10     7          0     2  ...    51  406988.63  172235.3604  234753.27\n",
              "\n",
              "[139119 rows x 11 columns]"
            ]
          },
          "metadata": {},
          "execution_count": 89
        }
      ]
    },
    {
      "cell_type": "code",
      "metadata": {
        "id": "QAsH-ByBlUNj"
      },
      "source": [
        " "
      ],
      "execution_count": null,
      "outputs": []
    },
    {
      "cell_type": "code",
      "metadata": {
        "id": "u6MqLWsPlGJx",
        "outputId": "4ec020d8-e20e-4a43-ebf1-fdea7c68eb59",
        "colab": {
          "base_uri": "https://localhost:8080/"
        }
      },
      "source": [
        "min(X_test['error'])"
      ],
      "execution_count": 119,
      "outputs": [
        {
          "output_type": "execute_result",
          "data": {
            "text/plain": [
              "0.0"
            ]
          },
          "metadata": {},
          "execution_count": 119
        }
      ]
    },
    {
      "cell_type": "code",
      "metadata": {
        "id": "UEEnT8MqlJPu",
        "outputId": "4d6ada74-4b16-4838-8d0c-9e26be31aac0",
        "colab": {
          "base_uri": "https://localhost:8080/"
        }
      },
      "source": [
        "max(X_test['error'])"
      ],
      "execution_count": 120,
      "outputs": [
        {
          "output_type": "execute_result",
          "data": {
            "text/plain": [
              "234753.27"
            ]
          },
          "metadata": {},
          "execution_count": 120
        }
      ]
    },
    {
      "cell_type": "code",
      "metadata": {
        "colab": {
          "base_uri": "https://localhost:8080/"
        },
        "id": "KAyaQO3TQq6k",
        "outputId": "72e16bb0-a516-460c-da94-d1fc73ce14c5"
      },
      "source": [
        "a = [10,20,30,40,50,60,70,80,90,100]\n",
        "for i in a:\n",
        "  print(np.percentile(X_test['error'],i))"
      ],
      "execution_count": 25,
      "outputs": [
        {
          "output_type": "stream",
          "name": "stdout",
          "text": [
            "33.68\n",
            "97.06600000000003\n",
            "194.38\n",
            "329.0860000000001\n",
            "509.58\n",
            "759.964\n",
            "1135.2659999999998\n",
            "1788.3980000000004\n",
            "3280.0039999999995\n",
            "234753.27\n"
          ]
        }
      ]
    },
    {
      "cell_type": "code",
      "metadata": {
        "id": "IO82fZ20Qq_n"
      },
      "source": [
        "X_testpw  = X_test[X_test['error'] >= 1788 ] #70 percentile diffrence\n",
        "X_testpw.sort_values('error',inplace = True)"
      ],
      "execution_count": 176,
      "outputs": []
    },
    {
      "cell_type": "code",
      "metadata": {
        "id": "mQgYUIQ1QrCq"
      },
      "source": [
        "X_testpr  = X_test[X_test['error'] < 1788 ] #70 percentile diffrence\n",
        "X_testpr.sort_values('error',inplace = True)"
      ],
      "execution_count": 177,
      "outputs": []
    },
    {
      "cell_type": "code",
      "metadata": {
        "id": "Fypca-SdQrFz"
      },
      "source": [
        "#Since our data was trained on X_train and testesd on X_test we should check the distribution for all of them"
      ],
      "execution_count": 178,
      "outputs": []
    },
    {
      "cell_type": "code",
      "metadata": {
        "id": "wA6tQS27QrIa"
      },
      "source": [
        "plt.rcParams[\"figure.figsize\"] = (20, 10)"
      ],
      "execution_count": 179,
      "outputs": []
    },
    {
      "cell_type": "code",
      "metadata": {
        "colab": {
          "base_uri": "https://localhost:8080/",
          "height": 616
        },
        "id": "Dp5gcy2eQrLK",
        "outputId": "97c90c78-fb8c-4b6b-bac6-61bca68aa8c1"
      },
      "source": [
        "sns.distplot(y_train)\n",
        "plt.show()"
      ],
      "execution_count": 180,
      "outputs": [
        {
          "output_type": "display_data",
          "data": {
            "image/png": "[encoded data removed]",
            "text/plain": [
              "<Figure size 1440x720 with 1 Axes>"
            ]
          },
          "metadata": {
            "needs_background": "light"
          }
        }
      ]
    },
    {
      "cell_type": "code",
      "metadata": {
        "colab": {
          "base_uri": "https://localhost:8080/",
          "height": 616
        },
        "id": "J769Bu6IQrNq",
        "outputId": "022a091b-4e41-4e6a-f5b1-a53bf2d8f390"
      },
      "source": [
        "sns.distplot(X_testpr['y_test'])\n",
        "plt.show()"
      ],
      "execution_count": 181,
      "outputs": [
        {
          "output_type": "display_data",
          "data": {
            "image/png": "[encoded data removed]",
            "text/plain": [
              "<Figure size 1440x720 with 1 Axes>"
            ]
          },
          "metadata": {
            "needs_background": "light"
          }
        }
      ]
    },
    {
      "cell_type": "code",
      "metadata": {
        "colab": {
          "base_uri": "https://localhost:8080/",
          "height": 616
        },
        "id": "aSHRCD6zQrSY",
        "outputId": "29726b9d-5fee-4d7d-f33a-f04895901bc3"
      },
      "source": [
        "sns.distplot(X_testpw['y_pred'])\n",
        "plt.show()"
      ],
      "execution_count": 182,
      "outputs": [
        {
          "output_type": "display_data",
          "data": {
            "image/png": "[encoded data removed]",
            "text/plain": [
              "<Figure size 1440x720 with 1 Axes>"
            ]
          },
          "metadata": {
            "needs_background": "light"
          }
        }
      ]
    },
    {
      "cell_type": "code",
      "metadata": {
        "id": "kRddgK2HQrUv"
      },
      "source": [
        "#the data seems right skewed in all cases and the distriution looks like pareto distribution means most of the sales are happening on most of the day's"
      ],
      "execution_count": 183,
      "outputs": []
    },
    {
      "cell_type": "code",
      "metadata": {
        "colab": {
          "base_uri": "https://localhost:8080/",
          "height": 423
        },
        "id": "5u7l5Ct2QrXK",
        "outputId": "f165caf7-7473-4909-b651-80d5b1375a32"
      },
      "source": [
        "X_testpw #this is X test predicted wrong"
      ],
      "execution_count": 156,
      "outputs": [
        {
          "output_type": "execute_result",
          "data": {
            "text/html": [
              "<div>\n",
              "<style scoped>\n",
              "    .dataframe tbody tr th:only-of-type {\n",
              "        vertical-align: middle;\n",
              "    }\n",
              "\n",
              "    .dataframe tbody tr th {\n",
              "        vertical-align: top;\n",
              "    }\n",
              "\n",
              "    .dataframe thead th {\n",
              "        text-align: right;\n",
              "    }\n",
              "</style>\n",
              "<table border=\"1\" class=\"dataframe\">\n",
              "  <thead>\n",
              "    <tr style=\"text-align: right;\">\n",
              "      <th></th>\n",
              "      <th>Store</th>\n",
              "      <th>Dept</th>\n",
              "      <th>IsHoliday</th>\n",
              "      <th>Type</th>\n",
              "      <th>Size</th>\n",
              "      <th>year</th>\n",
              "      <th>month</th>\n",
              "      <th>week</th>\n",
              "      <th>y_test</th>\n",
              "      <th>y_pred</th>\n",
              "      <th>error</th>\n",
              "    </tr>\n",
              "  </thead>\n",
              "  <tbody>\n",
              "    <tr>\n",
              "      <th>119900</th>\n",
              "      <td>13</td>\n",
              "      <td>18</td>\n",
              "      <td>0</td>\n",
              "      <td>1</td>\n",
              "      <td>219622</td>\n",
              "      <td>2010</td>\n",
              "      <td>3</td>\n",
              "      <td>11</td>\n",
              "      <td>4040.94</td>\n",
              "      <td>5829.1769</td>\n",
              "      <td>1788.24</td>\n",
              "    </tr>\n",
              "    <tr>\n",
              "      <th>388597</th>\n",
              "      <td>41</td>\n",
              "      <td>74</td>\n",
              "      <td>0</td>\n",
              "      <td>1</td>\n",
              "      <td>196321</td>\n",
              "      <td>2010</td>\n",
              "      <td>7</td>\n",
              "      <td>26</td>\n",
              "      <td>21142.43</td>\n",
              "      <td>19354.1853</td>\n",
              "      <td>1788.24</td>\n",
              "    </tr>\n",
              "    <tr>\n",
              "      <th>258956</th>\n",
              "      <td>27</td>\n",
              "      <td>17</td>\n",
              "      <td>0</td>\n",
              "      <td>1</td>\n",
              "      <td>204184</td>\n",
              "      <td>2011</td>\n",
              "      <td>3</td>\n",
              "      <td>9</td>\n",
              "      <td>16651.59</td>\n",
              "      <td>18439.8418</td>\n",
              "      <td>1788.25</td>\n",
              "    </tr>\n",
              "    <tr>\n",
              "      <th>30542</th>\n",
              "      <td>4</td>\n",
              "      <td>8</td>\n",
              "      <td>0</td>\n",
              "      <td>1</td>\n",
              "      <td>205863</td>\n",
              "      <td>2010</td>\n",
              "      <td>7</td>\n",
              "      <td>28</td>\n",
              "      <td>60005.05</td>\n",
              "      <td>61793.3718</td>\n",
              "      <td>1788.32</td>\n",
              "    </tr>\n",
              "    <tr>\n",
              "      <th>8029</th>\n",
              "      <td>1</td>\n",
              "      <td>79</td>\n",
              "      <td>0</td>\n",
              "      <td>1</td>\n",
              "      <td>151315</td>\n",
              "      <td>2011</td>\n",
              "      <td>10</td>\n",
              "      <td>42</td>\n",
              "      <td>30190.30</td>\n",
              "      <td>31978.6853</td>\n",
              "      <td>1788.39</td>\n",
              "    </tr>\n",
              "    <tr>\n",
              "      <th>...</th>\n",
              "      <td>...</td>\n",
              "      <td>...</td>\n",
              "      <td>...</td>\n",
              "      <td>...</td>\n",
              "      <td>...</td>\n",
              "      <td>...</td>\n",
              "      <td>...</td>\n",
              "      <td>...</td>\n",
              "      <td>...</td>\n",
              "      <td>...</td>\n",
              "      <td>...</td>\n",
              "    </tr>\n",
              "    <tr>\n",
              "      <th>244587</th>\n",
              "      <td>25</td>\n",
              "      <td>72</td>\n",
              "      <td>1</td>\n",
              "      <td>2</td>\n",
              "      <td>128107</td>\n",
              "      <td>2011</td>\n",
              "      <td>11</td>\n",
              "      <td>47</td>\n",
              "      <td>189532.67</td>\n",
              "      <td>384172.3785</td>\n",
              "      <td>194639.71</td>\n",
              "    </tr>\n",
              "    <tr>\n",
              "      <th>244535</th>\n",
              "      <td>25</td>\n",
              "      <td>72</td>\n",
              "      <td>1</td>\n",
              "      <td>2</td>\n",
              "      <td>128107</td>\n",
              "      <td>2010</td>\n",
              "      <td>11</td>\n",
              "      <td>47</td>\n",
              "      <td>198719.71</td>\n",
              "      <td>413820.3813</td>\n",
              "      <td>215100.67</td>\n",
              "    </tr>\n",
              "    <tr>\n",
              "      <th>88480</th>\n",
              "      <td>10</td>\n",
              "      <td>7</td>\n",
              "      <td>0</td>\n",
              "      <td>2</td>\n",
              "      <td>126512</td>\n",
              "      <td>2011</td>\n",
              "      <td>12</td>\n",
              "      <td>51</td>\n",
              "      <td>341308.00</td>\n",
              "      <td>123789.4037</td>\n",
              "      <td>217518.60</td>\n",
              "    </tr>\n",
              "    <tr>\n",
              "      <th>85732</th>\n",
              "      <td>9</td>\n",
              "      <td>72</td>\n",
              "      <td>1</td>\n",
              "      <td>2</td>\n",
              "      <td>125833</td>\n",
              "      <td>2010</td>\n",
              "      <td>11</td>\n",
              "      <td>47</td>\n",
              "      <td>123645.00</td>\n",
              "      <td>347362.0331</td>\n",
              "      <td>223717.03</td>\n",
              "    </tr>\n",
              "    <tr>\n",
              "      <th>88428</th>\n",
              "      <td>10</td>\n",
              "      <td>7</td>\n",
              "      <td>0</td>\n",
              "      <td>2</td>\n",
              "      <td>126512</td>\n",
              "      <td>2010</td>\n",
              "      <td>12</td>\n",
              "      <td>51</td>\n",
              "      <td>406988.63</td>\n",
              "      <td>172235.3604</td>\n",
              "      <td>234753.27</td>\n",
              "    </tr>\n",
              "  </tbody>\n",
              "</table>\n",
              "<p>27829 rows × 11 columns</p>\n",
              "</div>"
            ],
            "text/plain": [
              "        Store  Dept  IsHoliday  Type  ...  week     y_test       y_pred      error\n",
              "119900     13    18          0     1  ...    11    4040.94    5829.1769    1788.24\n",
              "388597     41    74          0     1  ...    26   21142.43   19354.1853    1788.24\n",
              "258956     27    17          0     1  ...     9   16651.59   18439.8418    1788.25\n",
              "30542       4     8          0     1  ...    28   60005.05   61793.3718    1788.32\n",
              "8029        1    79          0     1  ...    42   30190.30   31978.6853    1788.39\n",
              "...       ...   ...        ...   ...  ...   ...        ...          ...        ...\n",
              "244587     25    72          1     2  ...    47  189532.67  384172.3785  194639.71\n",
              "244535     25    72          1     2  ...    47  198719.71  413820.3813  215100.67\n",
              "88480      10     7          0     2  ...    51  341308.00  123789.4037  217518.60\n",
              "85732       9    72          1     2  ...    47  123645.00  347362.0331  223717.03\n",
              "88428      10     7          0     2  ...    51  406988.63  172235.3604  234753.27\n",
              "\n",
              "[27829 rows x 11 columns]"
            ]
          },
          "metadata": {},
          "execution_count": 156
        }
      ]
    },
    {
      "cell_type": "code",
      "metadata": {
        "colab": {
          "base_uri": "https://localhost:8080/",
          "height": 423
        },
        "id": "DKTpumaDQrZ4",
        "outputId": "2e6f6915-2aea-4a73-e41a-a057f95c3709"
      },
      "source": [
        "X_testpr #this is X test predicted right"
      ],
      "execution_count": 157,
      "outputs": [
        {
          "output_type": "execute_result",
          "data": {
            "text/html": [
              "<div>\n",
              "<style scoped>\n",
              "    .dataframe tbody tr th:only-of-type {\n",
              "        vertical-align: middle;\n",
              "    }\n",
              "\n",
              "    .dataframe tbody tr th {\n",
              "        vertical-align: top;\n",
              "    }\n",
              "\n",
              "    .dataframe thead th {\n",
              "        text-align: right;\n",
              "    }\n",
              "</style>\n",
              "<table border=\"1\" class=\"dataframe\">\n",
              "  <thead>\n",
              "    <tr style=\"text-align: right;\">\n",
              "      <th></th>\n",
              "      <th>Store</th>\n",
              "      <th>Dept</th>\n",
              "      <th>IsHoliday</th>\n",
              "      <th>Type</th>\n",
              "      <th>Size</th>\n",
              "      <th>year</th>\n",
              "      <th>month</th>\n",
              "      <th>week</th>\n",
              "      <th>y_test</th>\n",
              "      <th>y_pred</th>\n",
              "      <th>error</th>\n",
              "    </tr>\n",
              "  </thead>\n",
              "  <tbody>\n",
              "    <tr>\n",
              "      <th>290471</th>\n",
              "      <td>30</td>\n",
              "      <td>52</td>\n",
              "      <td>0</td>\n",
              "      <td>3</td>\n",
              "      <td>42988</td>\n",
              "      <td>2010</td>\n",
              "      <td>7</td>\n",
              "      <td>27</td>\n",
              "      <td>16.12</td>\n",
              "      <td>16.1207</td>\n",
              "      <td>0.00</td>\n",
              "    </tr>\n",
              "    <tr>\n",
              "      <th>400602</th>\n",
              "      <td>43</td>\n",
              "      <td>23</td>\n",
              "      <td>0</td>\n",
              "      <td>3</td>\n",
              "      <td>41062</td>\n",
              "      <td>2012</td>\n",
              "      <td>3</td>\n",
              "      <td>13</td>\n",
              "      <td>47.04</td>\n",
              "      <td>47.0449</td>\n",
              "      <td>0.00</td>\n",
              "    </tr>\n",
              "    <tr>\n",
              "      <th>115477</th>\n",
              "      <td>12</td>\n",
              "      <td>78</td>\n",
              "      <td>0</td>\n",
              "      <td>2</td>\n",
              "      <td>112238</td>\n",
              "      <td>2010</td>\n",
              "      <td>4</td>\n",
              "      <td>17</td>\n",
              "      <td>12.00</td>\n",
              "      <td>12.0000</td>\n",
              "      <td>0.00</td>\n",
              "    </tr>\n",
              "    <tr>\n",
              "      <th>315493</th>\n",
              "      <td>33</td>\n",
              "      <td>12</td>\n",
              "      <td>0</td>\n",
              "      <td>1</td>\n",
              "      <td>39690</td>\n",
              "      <td>2010</td>\n",
              "      <td>8</td>\n",
              "      <td>32</td>\n",
              "      <td>18.08</td>\n",
              "      <td>18.0799</td>\n",
              "      <td>0.00</td>\n",
              "    </tr>\n",
              "    <tr>\n",
              "      <th>82215</th>\n",
              "      <td>9</td>\n",
              "      <td>27</td>\n",
              "      <td>0</td>\n",
              "      <td>2</td>\n",
              "      <td>125833</td>\n",
              "      <td>2010</td>\n",
              "      <td>5</td>\n",
              "      <td>21</td>\n",
              "      <td>418.00</td>\n",
              "      <td>418.0000</td>\n",
              "      <td>0.00</td>\n",
              "    </tr>\n",
              "    <tr>\n",
              "      <th>...</th>\n",
              "      <td>...</td>\n",
              "      <td>...</td>\n",
              "      <td>...</td>\n",
              "      <td>...</td>\n",
              "      <td>...</td>\n",
              "      <td>...</td>\n",
              "      <td>...</td>\n",
              "      <td>...</td>\n",
              "      <td>...</td>\n",
              "      <td>...</td>\n",
              "      <td>...</td>\n",
              "    </tr>\n",
              "    <tr>\n",
              "      <th>336412</th>\n",
              "      <td>35</td>\n",
              "      <td>46</td>\n",
              "      <td>0</td>\n",
              "      <td>2</td>\n",
              "      <td>103681</td>\n",
              "      <td>2011</td>\n",
              "      <td>7</td>\n",
              "      <td>30</td>\n",
              "      <td>14361.80</td>\n",
              "      <td>16149.4802</td>\n",
              "      <td>1787.68</td>\n",
              "    </tr>\n",
              "    <tr>\n",
              "      <th>182013</th>\n",
              "      <td>19</td>\n",
              "      <td>36</td>\n",
              "      <td>0</td>\n",
              "      <td>1</td>\n",
              "      <td>203819</td>\n",
              "      <td>2012</td>\n",
              "      <td>7</td>\n",
              "      <td>28</td>\n",
              "      <td>1453.00</td>\n",
              "      <td>3240.8234</td>\n",
              "      <td>1787.82</td>\n",
              "    </tr>\n",
              "    <tr>\n",
              "      <th>118822</th>\n",
              "      <td>13</td>\n",
              "      <td>9</td>\n",
              "      <td>0</td>\n",
              "      <td>1</td>\n",
              "      <td>219622</td>\n",
              "      <td>2011</td>\n",
              "      <td>6</td>\n",
              "      <td>25</td>\n",
              "      <td>70626.24</td>\n",
              "      <td>72414.0712</td>\n",
              "      <td>1787.83</td>\n",
              "    </tr>\n",
              "    <tr>\n",
              "      <th>247971</th>\n",
              "      <td>26</td>\n",
              "      <td>8</td>\n",
              "      <td>0</td>\n",
              "      <td>1</td>\n",
              "      <td>152513</td>\n",
              "      <td>2011</td>\n",
              "      <td>6</td>\n",
              "      <td>22</td>\n",
              "      <td>28860.99</td>\n",
              "      <td>27073.0985</td>\n",
              "      <td>1787.89</td>\n",
              "    </tr>\n",
              "    <tr>\n",
              "      <th>217559</th>\n",
              "      <td>23</td>\n",
              "      <td>6</td>\n",
              "      <td>0</td>\n",
              "      <td>2</td>\n",
              "      <td>114533</td>\n",
              "      <td>2010</td>\n",
              "      <td>7</td>\n",
              "      <td>30</td>\n",
              "      <td>11235.77</td>\n",
              "      <td>9447.8324</td>\n",
              "      <td>1787.94</td>\n",
              "    </tr>\n",
              "  </tbody>\n",
              "</table>\n",
              "<p>111290 rows × 11 columns</p>\n",
              "</div>"
            ],
            "text/plain": [
              "        Store  Dept  IsHoliday  Type  ...  week    y_test      y_pred    error\n",
              "290471     30    52          0     3  ...    27     16.12     16.1207     0.00\n",
              "400602     43    23          0     3  ...    13     47.04     47.0449     0.00\n",
              "115477     12    78          0     2  ...    17     12.00     12.0000     0.00\n",
              "315493     33    12          0     1  ...    32     18.08     18.0799     0.00\n",
              "82215       9    27          0     2  ...    21    418.00    418.0000     0.00\n",
              "...       ...   ...        ...   ...  ...   ...       ...         ...      ...\n",
              "336412     35    46          0     2  ...    30  14361.80  16149.4802  1787.68\n",
              "182013     19    36          0     1  ...    28   1453.00   3240.8234  1787.82\n",
              "118822     13     9          0     1  ...    25  70626.24  72414.0712  1787.83\n",
              "247971     26     8          0     1  ...    22  28860.99  27073.0985  1787.89\n",
              "217559     23     6          0     2  ...    30  11235.77   9447.8324  1787.94\n",
              "\n",
              "[111290 rows x 11 columns]"
            ]
          },
          "metadata": {},
          "execution_count": 157
        }
      ]
    },
    {
      "cell_type": "code",
      "metadata": {
        "id": "WzkiICo0iEQR"
      },
      "source": [
        "#lets see if anything has any correlation with the error"
      ],
      "execution_count": 158,
      "outputs": []
    },
    {
      "cell_type": "code",
      "metadata": {
        "id": "jEeq1YRJiAx-",
        "outputId": "18026d2c-0eef-4794-e2a7-770d4c9ee467",
        "colab": {
          "base_uri": "https://localhost:8080/",
          "height": 394
        }
      },
      "source": [
        "X_testpw.corr()"
      ],
      "execution_count": 159,
      "outputs": [
        {
          "output_type": "execute_result",
          "data": {
            "text/html": [
              "<div>\n",
              "<style scoped>\n",
              "    .dataframe tbody tr th:only-of-type {\n",
              "        vertical-align: middle;\n",
              "    }\n",
              "\n",
              "    .dataframe tbody tr th {\n",
              "        vertical-align: top;\n",
              "    }\n",
              "\n",
              "    .dataframe thead th {\n",
              "        text-align: right;\n",
              "    }\n",
              "</style>\n",
              "<table border=\"1\" class=\"dataframe\">\n",
              "  <thead>\n",
              "    <tr style=\"text-align: right;\">\n",
              "      <th></th>\n",
              "      <th>Store</th>\n",
              "      <th>Dept</th>\n",
              "      <th>IsHoliday</th>\n",
              "      <th>Type</th>\n",
              "      <th>Size</th>\n",
              "      <th>year</th>\n",
              "      <th>month</th>\n",
              "      <th>week</th>\n",
              "      <th>y_test</th>\n",
              "      <th>y_pred</th>\n",
              "      <th>error</th>\n",
              "    </tr>\n",
              "  </thead>\n",
              "  <tbody>\n",
              "    <tr>\n",
              "      <th>Store</th>\n",
              "      <td>1.000000</td>\n",
              "      <td>0.104150</td>\n",
              "      <td>0.006460</td>\n",
              "      <td>0.205652</td>\n",
              "      <td>-0.212854</td>\n",
              "      <td>-0.009888</td>\n",
              "      <td>0.003224</td>\n",
              "      <td>0.002867</td>\n",
              "      <td>-0.088993</td>\n",
              "      <td>-0.090907</td>\n",
              "      <td>-0.040676</td>\n",
              "    </tr>\n",
              "    <tr>\n",
              "      <th>Dept</th>\n",
              "      <td>0.104150</td>\n",
              "      <td>1.000000</td>\n",
              "      <td>-0.009266</td>\n",
              "      <td>-0.019056</td>\n",
              "      <td>-0.028823</td>\n",
              "      <td>0.014709</td>\n",
              "      <td>-0.009408</td>\n",
              "      <td>-0.009217</td>\n",
              "      <td>0.293243</td>\n",
              "      <td>0.298467</td>\n",
              "      <td>0.050271</td>\n",
              "    </tr>\n",
              "    <tr>\n",
              "      <th>IsHoliday</th>\n",
              "      <td>0.006460</td>\n",
              "      <td>-0.009266</td>\n",
              "      <td>1.000000</td>\n",
              "      <td>0.017146</td>\n",
              "      <td>-0.014006</td>\n",
              "      <td>-0.096229</td>\n",
              "      <td>0.203540</td>\n",
              "      <td>0.215940</td>\n",
              "      <td>-0.025211</td>\n",
              "      <td>-0.012326</td>\n",
              "      <td>0.087872</td>\n",
              "    </tr>\n",
              "    <tr>\n",
              "      <th>Type</th>\n",
              "      <td>0.205652</td>\n",
              "      <td>-0.019056</td>\n",
              "      <td>0.017146</td>\n",
              "      <td>1.000000</td>\n",
              "      <td>-0.853933</td>\n",
              "      <td>-0.004256</td>\n",
              "      <td>0.015582</td>\n",
              "      <td>0.015844</td>\n",
              "      <td>-0.138152</td>\n",
              "      <td>-0.141687</td>\n",
              "      <td>-0.020861</td>\n",
              "    </tr>\n",
              "    <tr>\n",
              "      <th>Size</th>\n",
              "      <td>-0.212854</td>\n",
              "      <td>-0.028823</td>\n",
              "      <td>-0.014006</td>\n",
              "      <td>-0.853933</td>\n",
              "      <td>1.000000</td>\n",
              "      <td>0.003419</td>\n",
              "      <td>-0.014587</td>\n",
              "      <td>-0.014530</td>\n",
              "      <td>0.178773</td>\n",
              "      <td>0.182172</td>\n",
              "      <td>0.041349</td>\n",
              "    </tr>\n",
              "    <tr>\n",
              "      <th>year</th>\n",
              "      <td>-0.009888</td>\n",
              "      <td>0.014709</td>\n",
              "      <td>-0.096229</td>\n",
              "      <td>-0.004256</td>\n",
              "      <td>0.003419</td>\n",
              "      <td>1.000000</td>\n",
              "      <td>-0.220317</td>\n",
              "      <td>-0.209908</td>\n",
              "      <td>0.001620</td>\n",
              "      <td>0.001794</td>\n",
              "      <td>-0.052478</td>\n",
              "    </tr>\n",
              "    <tr>\n",
              "      <th>month</th>\n",
              "      <td>0.003224</td>\n",
              "      <td>-0.009408</td>\n",
              "      <td>0.203540</td>\n",
              "      <td>0.015582</td>\n",
              "      <td>-0.014587</td>\n",
              "      <td>-0.220317</td>\n",
              "      <td>1.000000</td>\n",
              "      <td>0.996346</td>\n",
              "      <td>0.015768</td>\n",
              "      <td>0.018198</td>\n",
              "      <td>0.106187</td>\n",
              "    </tr>\n",
              "    <tr>\n",
              "      <th>week</th>\n",
              "      <td>0.002867</td>\n",
              "      <td>-0.009217</td>\n",
              "      <td>0.215940</td>\n",
              "      <td>0.015844</td>\n",
              "      <td>-0.014530</td>\n",
              "      <td>-0.209908</td>\n",
              "      <td>0.996346</td>\n",
              "      <td>1.000000</td>\n",
              "      <td>0.014008</td>\n",
              "      <td>0.019072</td>\n",
              "      <td>0.108519</td>\n",
              "    </tr>\n",
              "    <tr>\n",
              "      <th>y_test</th>\n",
              "      <td>-0.088993</td>\n",
              "      <td>0.293243</td>\n",
              "      <td>-0.025211</td>\n",
              "      <td>-0.138152</td>\n",
              "      <td>0.178773</td>\n",
              "      <td>0.001620</td>\n",
              "      <td>0.015768</td>\n",
              "      <td>0.014008</td>\n",
              "      <td>1.000000</td>\n",
              "      <td>0.968625</td>\n",
              "      <td>0.467764</td>\n",
              "    </tr>\n",
              "    <tr>\n",
              "      <th>y_pred</th>\n",
              "      <td>-0.090907</td>\n",
              "      <td>0.298467</td>\n",
              "      <td>-0.012326</td>\n",
              "      <td>-0.141687</td>\n",
              "      <td>0.182172</td>\n",
              "      <td>0.001794</td>\n",
              "      <td>0.018198</td>\n",
              "      <td>0.019072</td>\n",
              "      <td>0.968625</td>\n",
              "      <td>1.000000</td>\n",
              "      <td>0.455404</td>\n",
              "    </tr>\n",
              "    <tr>\n",
              "      <th>error</th>\n",
              "      <td>-0.040676</td>\n",
              "      <td>0.050271</td>\n",
              "      <td>0.087872</td>\n",
              "      <td>-0.020861</td>\n",
              "      <td>0.041349</td>\n",
              "      <td>-0.052478</td>\n",
              "      <td>0.106187</td>\n",
              "      <td>0.108519</td>\n",
              "      <td>0.467764</td>\n",
              "      <td>0.455404</td>\n",
              "      <td>1.000000</td>\n",
              "    </tr>\n",
              "  </tbody>\n",
              "</table>\n",
              "</div>"
            ],
            "text/plain": [
              "              Store      Dept  IsHoliday  ...    y_test    y_pred     error\n",
              "Store      1.000000  0.104150   0.006460  ... -0.088993 -0.090907 -0.040676\n",
              "Dept       0.104150  1.000000  -0.009266  ...  0.293243  0.298467  0.050271\n",
              "IsHoliday  0.006460 -0.009266   1.000000  ... -0.025211 -0.012326  0.087872\n",
              "Type       0.205652 -0.019056   0.017146  ... -0.138152 -0.141687 -0.020861\n",
              "Size      -0.212854 -0.028823  -0.014006  ...  0.178773  0.182172  0.041349\n",
              "year      -0.009888  0.014709  -0.096229  ...  0.001620  0.001794 -0.052478\n",
              "month      0.003224 -0.009408   0.203540  ...  0.015768  0.018198  0.106187\n",
              "week       0.002867 -0.009217   0.215940  ...  0.014008  0.019072  0.108519\n",
              "y_test    -0.088993  0.293243  -0.025211  ...  1.000000  0.968625  0.467764\n",
              "y_pred    -0.090907  0.298467  -0.012326  ...  0.968625  1.000000  0.455404\n",
              "error     -0.040676  0.050271   0.087872  ...  0.467764  0.455404  1.000000\n",
              "\n",
              "[11 rows x 11 columns]"
            ]
          },
          "metadata": {},
          "execution_count": 159
        }
      ]
    },
    {
      "cell_type": "code",
      "metadata": {
        "id": "xTGWbX5hiQdO"
      },
      "source": [
        "#since nothing has very high correlation with the error so we cannot removing anything"
      ],
      "execution_count": 160,
      "outputs": []
    },
    {
      "cell_type": "code",
      "metadata": {
        "id": "LJPX5avacHZB"
      },
      "source": [
        "pd.set_option('display.max_rows', 50)"
      ],
      "execution_count": 161,
      "outputs": []
    },
    {
      "cell_type": "code",
      "metadata": {
        "colab": {
          "base_uri": "https://localhost:8080/"
        },
        "id": "UvBJe9yfQrcK",
        "outputId": "4febe2fe-b103-4ac9-f29d-254e3f76bf1a"
      },
      "source": [
        "X_testpr.describe()['y_pred']"
      ],
      "execution_count": 162,
      "outputs": [
        {
          "output_type": "execute_result",
          "data": {
            "text/plain": [
              "count    111290.000000\n",
              "mean      10128.151286\n",
              "std       14484.675392\n",
              "min        -660.685400\n",
              "25%        1399.370425\n",
              "50%        5039.348900\n",
              "75%       12854.007800\n",
              "max      346072.381700\n",
              "Name: y_pred, dtype: float64"
            ]
          },
          "metadata": {},
          "execution_count": 162
        }
      ]
    },
    {
      "cell_type": "code",
      "metadata": {
        "colab": {
          "base_uri": "https://localhost:8080/"
        },
        "id": "dCp9zlioQrej",
        "outputId": "b0428de7-ddf5-4664-86f1-f78407b1c6fb"
      },
      "source": [
        "X_testpw.describe()['y_pred']"
      ],
      "execution_count": 163,
      "outputs": [
        {
          "output_type": "execute_result",
          "data": {
            "text/plain": [
              "count     27829.000000\n",
              "mean      39483.442217\n",
              "std       31947.263707\n",
              "min           0.721800\n",
              "25%       17246.059700\n",
              "50%       30879.322300\n",
              "75%       52769.285500\n",
              "max      511555.851200\n",
              "Name: y_pred, dtype: float64"
            ]
          },
          "metadata": {},
          "execution_count": 163
        }
      ]
    },
    {
      "cell_type": "code",
      "metadata": {
        "colab": {
          "base_uri": "https://localhost:8080/"
        },
        "id": "VM71hc2uZefl",
        "outputId": "6f08d21c-a87f-4821-ba3c-fb8c255343bf"
      },
      "source": [
        "X_testpr['Dept'].value_counts().head(20)#top 10 deparments the mdoel is proving right"
      ],
      "execution_count": 164,
      "outputs": [
        {
          "output_type": "execute_result",
          "data": {
            "text/plain": [
              "12    2137\n",
              "42    2129\n",
              "21    2113\n",
              "59    2059\n",
              "52    2031\n",
              "28    2009\n",
              "85    1989\n",
              "60    1930\n",
              "31    1930\n",
              "83    1915\n",
              "81    1897\n",
              "67    1871\n",
              "20    1856\n",
              "27    1830\n",
              "17    1825\n",
              "98    1811\n",
              "80    1795\n",
              "25    1766\n",
              "35    1762\n",
              "3     1758\n",
              "Name: Dept, dtype: int64"
            ]
          },
          "metadata": {},
          "execution_count": 164
        }
      ]
    },
    {
      "cell_type": "code",
      "metadata": {
        "colab": {
          "base_uri": "https://localhost:8080/"
        },
        "id": "E8MRhp8laYJE",
        "outputId": "f4a3d20a-17aa-46d1-bf19-594eeeaa29d2"
      },
      "source": [
        "X_testpw['Dept'].value_counts().head(10)#top 10 deparments the mdoel is proving wrong"
      ],
      "execution_count": 165,
      "outputs": [
        {
          "output_type": "execute_result",
          "data": {
            "text/plain": [
              "38    1608\n",
              "92    1385\n",
              "72    1346\n",
              "95    1237\n",
              "7      973\n",
              "5      921\n",
              "90     824\n",
              "9      812\n",
              "91     799\n",
              "40     789\n",
              "Name: Dept, dtype: int64"
            ]
          },
          "metadata": {},
          "execution_count": 165
        }
      ]
    },
    {
      "cell_type": "code",
      "metadata": {
        "id": "w9qa_O6Ui7SN"
      },
      "source": [
        "#looking from above and our older eda the dept 38 has very high sales and our model is predicting its value wrong."
      ],
      "execution_count": 166,
      "outputs": []
    },
    {
      "cell_type": "code",
      "metadata": {
        "id": "etAheEfvC82u",
        "outputId": "579c9592-234d-4f53-ad0c-b30b1da24da4",
        "colab": {
          "base_uri": "https://localhost:8080/",
          "height": 423
        }
      },
      "source": [
        "X_testpr"
      ],
      "execution_count": 184,
      "outputs": [
        {
          "output_type": "execute_result",
          "data": {
            "text/html": [
              "<div>\n",
              "<style scoped>\n",
              "    .dataframe tbody tr th:only-of-type {\n",
              "        vertical-align: middle;\n",
              "    }\n",
              "\n",
              "    .dataframe tbody tr th {\n",
              "        vertical-align: top;\n",
              "    }\n",
              "\n",
              "    .dataframe thead th {\n",
              "        text-align: right;\n",
              "    }\n",
              "</style>\n",
              "<table border=\"1\" class=\"dataframe\">\n",
              "  <thead>\n",
              "    <tr style=\"text-align: right;\">\n",
              "      <th></th>\n",
              "      <th>Store</th>\n",
              "      <th>Dept</th>\n",
              "      <th>IsHoliday</th>\n",
              "      <th>Type</th>\n",
              "      <th>Size</th>\n",
              "      <th>year</th>\n",
              "      <th>month</th>\n",
              "      <th>week</th>\n",
              "      <th>y_test</th>\n",
              "      <th>y_pred</th>\n",
              "      <th>error</th>\n",
              "    </tr>\n",
              "  </thead>\n",
              "  <tbody>\n",
              "    <tr>\n",
              "      <th>290471</th>\n",
              "      <td>30</td>\n",
              "      <td>52</td>\n",
              "      <td>0</td>\n",
              "      <td>3</td>\n",
              "      <td>42988</td>\n",
              "      <td>2010</td>\n",
              "      <td>7</td>\n",
              "      <td>27</td>\n",
              "      <td>16.12</td>\n",
              "      <td>16.1207</td>\n",
              "      <td>0.00</td>\n",
              "    </tr>\n",
              "    <tr>\n",
              "      <th>400602</th>\n",
              "      <td>43</td>\n",
              "      <td>23</td>\n",
              "      <td>0</td>\n",
              "      <td>3</td>\n",
              "      <td>41062</td>\n",
              "      <td>2012</td>\n",
              "      <td>3</td>\n",
              "      <td>13</td>\n",
              "      <td>47.04</td>\n",
              "      <td>47.0449</td>\n",
              "      <td>0.00</td>\n",
              "    </tr>\n",
              "    <tr>\n",
              "      <th>115477</th>\n",
              "      <td>12</td>\n",
              "      <td>78</td>\n",
              "      <td>0</td>\n",
              "      <td>2</td>\n",
              "      <td>112238</td>\n",
              "      <td>2010</td>\n",
              "      <td>4</td>\n",
              "      <td>17</td>\n",
              "      <td>12.00</td>\n",
              "      <td>12.0000</td>\n",
              "      <td>0.00</td>\n",
              "    </tr>\n",
              "    <tr>\n",
              "      <th>315493</th>\n",
              "      <td>33</td>\n",
              "      <td>12</td>\n",
              "      <td>0</td>\n",
              "      <td>1</td>\n",
              "      <td>39690</td>\n",
              "      <td>2010</td>\n",
              "      <td>8</td>\n",
              "      <td>32</td>\n",
              "      <td>18.08</td>\n",
              "      <td>18.0799</td>\n",
              "      <td>0.00</td>\n",
              "    </tr>\n",
              "    <tr>\n",
              "      <th>82215</th>\n",
              "      <td>9</td>\n",
              "      <td>27</td>\n",
              "      <td>0</td>\n",
              "      <td>2</td>\n",
              "      <td>125833</td>\n",
              "      <td>2010</td>\n",
              "      <td>5</td>\n",
              "      <td>21</td>\n",
              "      <td>418.00</td>\n",
              "      <td>418.0000</td>\n",
              "      <td>0.00</td>\n",
              "    </tr>\n",
              "    <tr>\n",
              "      <th>...</th>\n",
              "      <td>...</td>\n",
              "      <td>...</td>\n",
              "      <td>...</td>\n",
              "      <td>...</td>\n",
              "      <td>...</td>\n",
              "      <td>...</td>\n",
              "      <td>...</td>\n",
              "      <td>...</td>\n",
              "      <td>...</td>\n",
              "      <td>...</td>\n",
              "      <td>...</td>\n",
              "    </tr>\n",
              "    <tr>\n",
              "      <th>336412</th>\n",
              "      <td>35</td>\n",
              "      <td>46</td>\n",
              "      <td>0</td>\n",
              "      <td>2</td>\n",
              "      <td>103681</td>\n",
              "      <td>2011</td>\n",
              "      <td>7</td>\n",
              "      <td>30</td>\n",
              "      <td>14361.80</td>\n",
              "      <td>16149.4802</td>\n",
              "      <td>1787.68</td>\n",
              "    </tr>\n",
              "    <tr>\n",
              "      <th>182013</th>\n",
              "      <td>19</td>\n",
              "      <td>36</td>\n",
              "      <td>0</td>\n",
              "      <td>1</td>\n",
              "      <td>203819</td>\n",
              "      <td>2012</td>\n",
              "      <td>7</td>\n",
              "      <td>28</td>\n",
              "      <td>1453.00</td>\n",
              "      <td>3240.8234</td>\n",
              "      <td>1787.82</td>\n",
              "    </tr>\n",
              "    <tr>\n",
              "      <th>118822</th>\n",
              "      <td>13</td>\n",
              "      <td>9</td>\n",
              "      <td>0</td>\n",
              "      <td>1</td>\n",
              "      <td>219622</td>\n",
              "      <td>2011</td>\n",
              "      <td>6</td>\n",
              "      <td>25</td>\n",
              "      <td>70626.24</td>\n",
              "      <td>72414.0712</td>\n",
              "      <td>1787.83</td>\n",
              "    </tr>\n",
              "    <tr>\n",
              "      <th>247971</th>\n",
              "      <td>26</td>\n",
              "      <td>8</td>\n",
              "      <td>0</td>\n",
              "      <td>1</td>\n",
              "      <td>152513</td>\n",
              "      <td>2011</td>\n",
              "      <td>6</td>\n",
              "      <td>22</td>\n",
              "      <td>28860.99</td>\n",
              "      <td>27073.0985</td>\n",
              "      <td>1787.89</td>\n",
              "    </tr>\n",
              "    <tr>\n",
              "      <th>217559</th>\n",
              "      <td>23</td>\n",
              "      <td>6</td>\n",
              "      <td>0</td>\n",
              "      <td>2</td>\n",
              "      <td>114533</td>\n",
              "      <td>2010</td>\n",
              "      <td>7</td>\n",
              "      <td>30</td>\n",
              "      <td>11235.77</td>\n",
              "      <td>9447.8324</td>\n",
              "      <td>1787.94</td>\n",
              "    </tr>\n",
              "  </tbody>\n",
              "</table>\n",
              "<p>111290 rows × 11 columns</p>\n",
              "</div>"
            ],
            "text/plain": [
              "        Store  Dept  IsHoliday  Type  ...  week    y_test      y_pred    error\n",
              "290471     30    52          0     3  ...    27     16.12     16.1207     0.00\n",
              "400602     43    23          0     3  ...    13     47.04     47.0449     0.00\n",
              "115477     12    78          0     2  ...    17     12.00     12.0000     0.00\n",
              "315493     33    12          0     1  ...    32     18.08     18.0799     0.00\n",
              "82215       9    27          0     2  ...    21    418.00    418.0000     0.00\n",
              "...       ...   ...        ...   ...  ...   ...       ...         ...      ...\n",
              "336412     35    46          0     2  ...    30  14361.80  16149.4802  1787.68\n",
              "182013     19    36          0     1  ...    28   1453.00   3240.8234  1787.82\n",
              "118822     13     9          0     1  ...    25  70626.24  72414.0712  1787.83\n",
              "247971     26     8          0     1  ...    22  28860.99  27073.0985  1787.89\n",
              "217559     23     6          0     2  ...    30  11235.77   9447.8324  1787.94\n",
              "\n",
              "[111290 rows x 11 columns]"
            ]
          },
          "metadata": {},
          "execution_count": 184
        }
      ]
    },
    {
      "cell_type": "code",
      "metadata": {
        "id": "VDBmpYIeD1Fl",
        "outputId": "e5feeac5-1c20-4b35-8cd1-b916326607ca",
        "colab": {
          "base_uri": "https://localhost:8080/",
          "height": 423
        }
      },
      "source": [
        "X_testpw"
      ],
      "execution_count": 205,
      "outputs": [
        {
          "output_type": "execute_result",
          "data": {
            "text/html": [
              "<div>\n",
              "<style scoped>\n",
              "    .dataframe tbody tr th:only-of-type {\n",
              "        vertical-align: middle;\n",
              "    }\n",
              "\n",
              "    .dataframe tbody tr th {\n",
              "        vertical-align: top;\n",
              "    }\n",
              "\n",
              "    .dataframe thead th {\n",
              "        text-align: right;\n",
              "    }\n",
              "</style>\n",
              "<table border=\"1\" class=\"dataframe\">\n",
              "  <thead>\n",
              "    <tr style=\"text-align: right;\">\n",
              "      <th></th>\n",
              "      <th>Store</th>\n",
              "      <th>Dept</th>\n",
              "      <th>IsHoliday</th>\n",
              "      <th>Type</th>\n",
              "      <th>Size</th>\n",
              "      <th>year</th>\n",
              "      <th>month</th>\n",
              "      <th>week</th>\n",
              "      <th>y_test</th>\n",
              "      <th>y_pred</th>\n",
              "      <th>error</th>\n",
              "    </tr>\n",
              "  </thead>\n",
              "  <tbody>\n",
              "    <tr>\n",
              "      <th>119900</th>\n",
              "      <td>13</td>\n",
              "      <td>18</td>\n",
              "      <td>0</td>\n",
              "      <td>1</td>\n",
              "      <td>219622</td>\n",
              "      <td>2010</td>\n",
              "      <td>3</td>\n",
              "      <td>11</td>\n",
              "      <td>4040.94</td>\n",
              "      <td>5829.1769</td>\n",
              "      <td>1788.24</td>\n",
              "    </tr>\n",
              "    <tr>\n",
              "      <th>388597</th>\n",
              "      <td>41</td>\n",
              "      <td>74</td>\n",
              "      <td>0</td>\n",
              "      <td>1</td>\n",
              "      <td>196321</td>\n",
              "      <td>2010</td>\n",
              "      <td>7</td>\n",
              "      <td>26</td>\n",
              "      <td>21142.43</td>\n",
              "      <td>19354.1853</td>\n",
              "      <td>1788.24</td>\n",
              "    </tr>\n",
              "    <tr>\n",
              "      <th>258956</th>\n",
              "      <td>27</td>\n",
              "      <td>17</td>\n",
              "      <td>0</td>\n",
              "      <td>1</td>\n",
              "      <td>204184</td>\n",
              "      <td>2011</td>\n",
              "      <td>3</td>\n",
              "      <td>9</td>\n",
              "      <td>16651.59</td>\n",
              "      <td>18439.8418</td>\n",
              "      <td>1788.25</td>\n",
              "    </tr>\n",
              "    <tr>\n",
              "      <th>30542</th>\n",
              "      <td>4</td>\n",
              "      <td>8</td>\n",
              "      <td>0</td>\n",
              "      <td>1</td>\n",
              "      <td>205863</td>\n",
              "      <td>2010</td>\n",
              "      <td>7</td>\n",
              "      <td>28</td>\n",
              "      <td>60005.05</td>\n",
              "      <td>61793.3718</td>\n",
              "      <td>1788.32</td>\n",
              "    </tr>\n",
              "    <tr>\n",
              "      <th>8029</th>\n",
              "      <td>1</td>\n",
              "      <td>79</td>\n",
              "      <td>0</td>\n",
              "      <td>1</td>\n",
              "      <td>151315</td>\n",
              "      <td>2011</td>\n",
              "      <td>10</td>\n",
              "      <td>42</td>\n",
              "      <td>30190.30</td>\n",
              "      <td>31978.6853</td>\n",
              "      <td>1788.39</td>\n",
              "    </tr>\n",
              "    <tr>\n",
              "      <th>...</th>\n",
              "      <td>...</td>\n",
              "      <td>...</td>\n",
              "      <td>...</td>\n",
              "      <td>...</td>\n",
              "      <td>...</td>\n",
              "      <td>...</td>\n",
              "      <td>...</td>\n",
              "      <td>...</td>\n",
              "      <td>...</td>\n",
              "      <td>...</td>\n",
              "      <td>...</td>\n",
              "    </tr>\n",
              "    <tr>\n",
              "      <th>244587</th>\n",
              "      <td>25</td>\n",
              "      <td>72</td>\n",
              "      <td>1</td>\n",
              "      <td>2</td>\n",
              "      <td>128107</td>\n",
              "      <td>2011</td>\n",
              "      <td>11</td>\n",
              "      <td>47</td>\n",
              "      <td>189532.67</td>\n",
              "      <td>384172.3785</td>\n",
              "      <td>194639.71</td>\n",
              "    </tr>\n",
              "    <tr>\n",
              "      <th>244535</th>\n",
              "      <td>25</td>\n",
              "      <td>72</td>\n",
              "      <td>1</td>\n",
              "      <td>2</td>\n",
              "      <td>128107</td>\n",
              "      <td>2010</td>\n",
              "      <td>11</td>\n",
              "      <td>47</td>\n",
              "      <td>198719.71</td>\n",
              "      <td>413820.3813</td>\n",
              "      <td>215100.67</td>\n",
              "    </tr>\n",
              "    <tr>\n",
              "      <th>88480</th>\n",
              "      <td>10</td>\n",
              "      <td>7</td>\n",
              "      <td>0</td>\n",
              "      <td>2</td>\n",
              "      <td>126512</td>\n",
              "      <td>2011</td>\n",
              "      <td>12</td>\n",
              "      <td>51</td>\n",
              "      <td>341308.00</td>\n",
              "      <td>123789.4037</td>\n",
              "      <td>217518.60</td>\n",
              "    </tr>\n",
              "    <tr>\n",
              "      <th>85732</th>\n",
              "      <td>9</td>\n",
              "      <td>72</td>\n",
              "      <td>1</td>\n",
              "      <td>2</td>\n",
              "      <td>125833</td>\n",
              "      <td>2010</td>\n",
              "      <td>11</td>\n",
              "      <td>47</td>\n",
              "      <td>123645.00</td>\n",
              "      <td>347362.0331</td>\n",
              "      <td>223717.03</td>\n",
              "    </tr>\n",
              "    <tr>\n",
              "      <th>88428</th>\n",
              "      <td>10</td>\n",
              "      <td>7</td>\n",
              "      <td>0</td>\n",
              "      <td>2</td>\n",
              "      <td>126512</td>\n",
              "      <td>2010</td>\n",
              "      <td>12</td>\n",
              "      <td>51</td>\n",
              "      <td>406988.63</td>\n",
              "      <td>172235.3604</td>\n",
              "      <td>234753.27</td>\n",
              "    </tr>\n",
              "  </tbody>\n",
              "</table>\n",
              "<p>27829 rows × 11 columns</p>\n",
              "</div>"
            ],
            "text/plain": [
              "        Store  Dept  IsHoliday  Type  ...  week     y_test       y_pred      error\n",
              "119900     13    18          0     1  ...    11    4040.94    5829.1769    1788.24\n",
              "388597     41    74          0     1  ...    26   21142.43   19354.1853    1788.24\n",
              "258956     27    17          0     1  ...     9   16651.59   18439.8418    1788.25\n",
              "30542       4     8          0     1  ...    28   60005.05   61793.3718    1788.32\n",
              "8029        1    79          0     1  ...    42   30190.30   31978.6853    1788.39\n",
              "...       ...   ...        ...   ...  ...   ...        ...          ...        ...\n",
              "244587     25    72          1     2  ...    47  189532.67  384172.3785  194639.71\n",
              "244535     25    72          1     2  ...    47  198719.71  413820.3813  215100.67\n",
              "88480      10     7          0     2  ...    51  341308.00  123789.4037  217518.60\n",
              "85732       9    72          1     2  ...    47  123645.00  347362.0331  223717.03\n",
              "88428      10     7          0     2  ...    51  406988.63  172235.3604  234753.27\n",
              "\n",
              "[27829 rows x 11 columns]"
            ]
          },
          "metadata": {},
          "execution_count": 205
        }
      ]
    },
    {
      "cell_type": "code",
      "metadata": {
        "id": "SGVoSkveyzlg",
        "outputId": "614d716a-610e-49ab-c878-9214abc6cd40",
        "colab": {
          "base_uri": "https://localhost:8080/",
          "height": 622
        }
      },
      "source": [
        "#analysing store dept and type.\n",
        "#lets take the bottom 5% values\n",
        "sns.barplot(x=\"Store\", y=\"y_test\", data=X_testpw.tail(30))\n",
        "\n"
      ],
      "execution_count": 216,
      "outputs": [
        {
          "output_type": "execute_result",
          "data": {
            "text/plain": [
              "<matplotlib.axes._subplots.AxesSubplot at 0x7f61f25d3850>"
            ]
          },
          "metadata": {},
          "execution_count": 216
        },
        {
          "output_type": "display_data",
          "data": {
            "image/png": "[encoded data removed]",
            "text/plain": [
              "<Figure size 1440x720 with 1 Axes>"
            ]
          },
          "metadata": {
            "needs_background": "light"
          }
        }
      ]
    },
    {
      "cell_type": "code",
      "metadata": {
        "id": "oredOkzYz2w0",
        "outputId": "aacc5275-a9e8-4f73-cc3d-3566067ca766",
        "colab": {
          "base_uri": "https://localhost:8080/",
          "height": 622
        }
      },
      "source": [
        "#analysing store dept and type.\n",
        "sns.barplot(x=\"Store\", y=\"y_pred\", data=X_testpw.tail(30))"
      ],
      "execution_count": 217,
      "outputs": [
        {
          "output_type": "execute_result",
          "data": {
            "text/plain": [
              "<matplotlib.axes._subplots.AxesSubplot at 0x7f61f2204a10>"
            ]
          },
          "metadata": {},
          "execution_count": 217
        },
        {
          "output_type": "display_data",
          "data": {
            "image/png": "[encoded data removed]",
            "text/plain": [
              "<Figure size 1440x720 with 1 Axes>"
            ]
          },
          "metadata": {
            "needs_background": "light"
          }
        }
      ]
    },
    {
      "cell_type": "code",
      "metadata": {
        "id": "Ht6GRl3l8h2z"
      },
      "source": [
        "#we can clearly see for store 9o,10u,11,14u,25o,35 our model is predicting wrong values"
      ],
      "execution_count": 218,
      "outputs": []
    },
    {
      "cell_type": "code",
      "metadata": {
        "id": "2dR4tWZd80BL",
        "outputId": "c92b8fe1-a172-4f07-ca3b-c7f1762ad788",
        "colab": {
          "base_uri": "https://localhost:8080/",
          "height": 622
        }
      },
      "source": [
        "sns.barplot(x=\"Store\", y=\"y_test\", data=X_testpw.tail(30))"
      ],
      "execution_count": 220,
      "outputs": [
        {
          "output_type": "execute_result",
          "data": {
            "text/plain": [
              "<matplotlib.axes._subplots.AxesSubplot at 0x7f61f6745c50>"
            ]
          },
          "metadata": {},
          "execution_count": 220
        },
        {
          "output_type": "display_data",
          "data": {
            "image/png": "[encoded data removed]",
            "text/plain": [
              "<Figure size 1440x720 with 1 Axes>"
            ]
          },
          "metadata": {
            "needs_background": "light"
          }
        }
      ]
    },
    {
      "cell_type": "code",
      "metadata": {
        "id": "f9UeV_l6FxK5"
      },
      "source": [
        "#similarly for stores"
      ],
      "execution_count": null,
      "outputs": []
    },
    {
      "cell_type": "code",
      "metadata": {
        "id": "0gEhn4a187LM",
        "outputId": "cec8d193-1fe5-4bdd-d6b0-02fc5b7123b8",
        "colab": {
          "base_uri": "https://localhost:8080/",
          "height": 622
        }
      },
      "source": [
        "sns.barplot(x=\"Store\", y=\"y_pred\", data=X_testpw.tail(30))"
      ],
      "execution_count": 221,
      "outputs": [
        {
          "output_type": "execute_result",
          "data": {
            "text/plain": [
              "<matplotlib.axes._subplots.AxesSubplot at 0x7f61f1ab8a90>"
            ]
          },
          "metadata": {},
          "execution_count": 221
        },
        {
          "output_type": "display_data",
          "data": {
            "image/png": "[encoded data removed]",
            "text/plain": [
              "<Figure size 1440x720 with 1 Axes>"
            ]
          },
          "metadata": {
            "needs_background": "light"
          }
        }
      ]
    },
    {
      "cell_type": "code",
      "metadata": {
        "id": "o2Eos0ABF6m_"
      },
      "source": [
        "9 10u 11o 14 u 20u 25 o 27 45"
      ],
      "execution_count": null,
      "outputs": []
    },
    {
      "cell_type": "code",
      "metadata": {
        "id": "ltxTk2pq8-2k",
        "outputId": "25f10626-57f7-4032-9d69-12e91fb4667f",
        "colab": {
          "base_uri": "https://localhost:8080/",
          "height": 622
        }
      },
      "source": [
        "sns.barplot(x=\"Type\", y=\"y_test\", data=X_testpw.tail(30))"
      ],
      "execution_count": 222,
      "outputs": [
        {
          "output_type": "execute_result",
          "data": {
            "text/plain": [
              "<matplotlib.axes._subplots.AxesSubplot at 0x7f61fb507190>"
            ]
          },
          "metadata": {},
          "execution_count": 222
        },
        {
          "output_type": "display_data",
          "data": {
            "image/png": "[encoded data removed]",
            "text/plain": [
              "<Figure size 1440x720 with 1 Axes>"
            ]
          },
          "metadata": {
            "needs_background": "light"
          }
        }
      ]
    },
    {
      "cell_type": "code",
      "metadata": {
        "id": "pvmsJQKM9NtE",
        "outputId": "1fa8c098-8216-4158-a16f-3991ff8e9f35",
        "colab": {
          "base_uri": "https://localhost:8080/",
          "height": 622
        }
      },
      "source": [
        "sns.barplot(x=\"Type\", y=\"y_pred\", data=X_testpw.tail(30))"
      ],
      "execution_count": 223,
      "outputs": [
        {
          "output_type": "execute_result",
          "data": {
            "text/plain": [
              "<matplotlib.axes._subplots.AxesSubplot at 0x7f61f1ab8d10>"
            ]
          },
          "metadata": {},
          "execution_count": 223
        },
        {
          "output_type": "display_data",
          "data": {
            "image/png": "[encoded data removed]",
            "text/plain": [
              "<Figure size 1440x720 with 1 Axes>"
            ]
          },
          "metadata": {
            "needs_background": "light"
          }
        }
      ]
    },
    {
      "cell_type": "code",
      "metadata": {
        "id": "N1oVKRBn9d4k",
        "outputId": "f5fba629-c569-42a4-d54e-f56eab7419d2",
        "colab": {
          "base_uri": "https://localhost:8080/",
          "height": 622
        }
      },
      "source": [
        "sns.barplot(x=\"year\", y=\"y_pred\", data=X_testpw.tail(30))"
      ],
      "execution_count": 225,
      "outputs": [
        {
          "output_type": "execute_result",
          "data": {
            "text/plain": [
              "<matplotlib.axes._subplots.AxesSubplot at 0x7f61f6e89ad0>"
            ]
          },
          "metadata": {},
          "execution_count": 225
        },
        {
          "output_type": "display_data",
          "data": {
            "image/png": "[encoded data removed]",
            "text/plain": [
              "<Figure size 1440x720 with 1 Axes>"
            ]
          },
          "metadata": {
            "needs_background": "light"
          }
        }
      ]
    },
    {
      "cell_type": "code",
      "metadata": {
        "id": "QUokY4inIMJr",
        "outputId": "20badd74-e12e-4f3d-a690-06f42de44e2a",
        "colab": {
          "base_uri": "https://localhost:8080/",
          "height": 622
        }
      },
      "source": [
        "sns.barplot(x=\"year\", y=\"y_test\", data=X_testpw.tail(30))"
      ],
      "execution_count": 226,
      "outputs": [
        {
          "output_type": "execute_result",
          "data": {
            "text/plain": [
              "<matplotlib.axes._subplots.AxesSubplot at 0x7f61f86ec810>"
            ]
          },
          "metadata": {},
          "execution_count": 226
        },
        {
          "output_type": "display_data",
          "data": {
            "image/png": "[encoded data removed]",
            "text/plain": [
              "<Figure size 1440x720 with 1 Axes>"
            ]
          },
          "metadata": {
            "needs_background": "light"
          }
        }
      ]
    },
    {
      "cell_type": "code",
      "metadata": {
        "id": "p5lnrNZKIZi2"
      },
      "source": [
        "#model overestimates the value for 2011"
      ],
      "execution_count": 227,
      "outputs": []
    },
    {
      "cell_type": "code",
      "metadata": {
        "id": "MbBBy5K6I1D7",
        "outputId": "323b3dce-c78f-4afb-940b-b72db2a50ad0",
        "colab": {
          "base_uri": "https://localhost:8080/",
          "height": 394
        }
      },
      "source": [
        "#let's see if we have an corr with the error\n",
        "X_testpw.corr()"
      ],
      "execution_count": 229,
      "outputs": [
        {
          "output_type": "execute_result",
          "data": {
            "text/html": [
              "<div>\n",
              "<style scoped>\n",
              "    .dataframe tbody tr th:only-of-type {\n",
              "        vertical-align: middle;\n",
              "    }\n",
              "\n",
              "    .dataframe tbody tr th {\n",
              "        vertical-align: top;\n",
              "    }\n",
              "\n",
              "    .dataframe thead th {\n",
              "        text-align: right;\n",
              "    }\n",
              "</style>\n",
              "<table border=\"1\" class=\"dataframe\">\n",
              "  <thead>\n",
              "    <tr style=\"text-align: right;\">\n",
              "      <th></th>\n",
              "      <th>Store</th>\n",
              "      <th>Dept</th>\n",
              "      <th>IsHoliday</th>\n",
              "      <th>Type</th>\n",
              "      <th>Size</th>\n",
              "      <th>year</th>\n",
              "      <th>month</th>\n",
              "      <th>week</th>\n",
              "      <th>y_test</th>\n",
              "      <th>y_pred</th>\n",
              "      <th>error</th>\n",
              "    </tr>\n",
              "  </thead>\n",
              "  <tbody>\n",
              "    <tr>\n",
              "      <th>Store</th>\n",
              "      <td>1.000000</td>\n",
              "      <td>0.104150</td>\n",
              "      <td>0.006460</td>\n",
              "      <td>0.205652</td>\n",
              "      <td>-0.212854</td>\n",
              "      <td>-0.009888</td>\n",
              "      <td>0.003224</td>\n",
              "      <td>0.002867</td>\n",
              "      <td>-0.088993</td>\n",
              "      <td>-0.090907</td>\n",
              "      <td>-0.040676</td>\n",
              "    </tr>\n",
              "    <tr>\n",
              "      <th>Dept</th>\n",
              "      <td>0.104150</td>\n",
              "      <td>1.000000</td>\n",
              "      <td>-0.009266</td>\n",
              "      <td>-0.019056</td>\n",
              "      <td>-0.028823</td>\n",
              "      <td>0.014709</td>\n",
              "      <td>-0.009408</td>\n",
              "      <td>-0.009217</td>\n",
              "      <td>0.293243</td>\n",
              "      <td>0.298467</td>\n",
              "      <td>0.050271</td>\n",
              "    </tr>\n",
              "    <tr>\n",
              "      <th>IsHoliday</th>\n",
              "      <td>0.006460</td>\n",
              "      <td>-0.009266</td>\n",
              "      <td>1.000000</td>\n",
              "      <td>0.017146</td>\n",
              "      <td>-0.014006</td>\n",
              "      <td>-0.096229</td>\n",
              "      <td>0.203540</td>\n",
              "      <td>0.215940</td>\n",
              "      <td>-0.025211</td>\n",
              "      <td>-0.012326</td>\n",
              "      <td>0.087872</td>\n",
              "    </tr>\n",
              "    <tr>\n",
              "      <th>Type</th>\n",
              "      <td>0.205652</td>\n",
              "      <td>-0.019056</td>\n",
              "      <td>0.017146</td>\n",
              "      <td>1.000000</td>\n",
              "      <td>-0.853933</td>\n",
              "      <td>-0.004256</td>\n",
              "      <td>0.015582</td>\n",
              "      <td>0.015844</td>\n",
              "      <td>-0.138152</td>\n",
              "      <td>-0.141687</td>\n",
              "      <td>-0.020861</td>\n",
              "    </tr>\n",
              "    <tr>\n",
              "      <th>Size</th>\n",
              "      <td>-0.212854</td>\n",
              "      <td>-0.028823</td>\n",
              "      <td>-0.014006</td>\n",
              "      <td>-0.853933</td>\n",
              "      <td>1.000000</td>\n",
              "      <td>0.003419</td>\n",
              "      <td>-0.014587</td>\n",
              "      <td>-0.014530</td>\n",
              "      <td>0.178773</td>\n",
              "      <td>0.182172</td>\n",
              "      <td>0.041349</td>\n",
              "    </tr>\n",
              "    <tr>\n",
              "      <th>year</th>\n",
              "      <td>-0.009888</td>\n",
              "      <td>0.014709</td>\n",
              "      <td>-0.096229</td>\n",
              "      <td>-0.004256</td>\n",
              "      <td>0.003419</td>\n",
              "      <td>1.000000</td>\n",
              "      <td>-0.220317</td>\n",
              "      <td>-0.209908</td>\n",
              "      <td>0.001620</td>\n",
              "      <td>0.001794</td>\n",
              "      <td>-0.052478</td>\n",
              "    </tr>\n",
              "    <tr>\n",
              "      <th>month</th>\n",
              "      <td>0.003224</td>\n",
              "      <td>-0.009408</td>\n",
              "      <td>0.203540</td>\n",
              "      <td>0.015582</td>\n",
              "      <td>-0.014587</td>\n",
              "      <td>-0.220317</td>\n",
              "      <td>1.000000</td>\n",
              "      <td>0.996346</td>\n",
              "      <td>0.015768</td>\n",
              "      <td>0.018198</td>\n",
              "      <td>0.106187</td>\n",
              "    </tr>\n",
              "    <tr>\n",
              "      <th>week</th>\n",
              "      <td>0.002867</td>\n",
              "      <td>-0.009217</td>\n",
              "      <td>0.215940</td>\n",
              "      <td>0.015844</td>\n",
              "      <td>-0.014530</td>\n",
              "      <td>-0.209908</td>\n",
              "      <td>0.996346</td>\n",
              "      <td>1.000000</td>\n",
              "      <td>0.014008</td>\n",
              "      <td>0.019072</td>\n",
              "      <td>0.108519</td>\n",
              "    </tr>\n",
              "    <tr>\n",
              "      <th>y_test</th>\n",
              "      <td>-0.088993</td>\n",
              "      <td>0.293243</td>\n",
              "      <td>-0.025211</td>\n",
              "      <td>-0.138152</td>\n",
              "      <td>0.178773</td>\n",
              "      <td>0.001620</td>\n",
              "      <td>0.015768</td>\n",
              "      <td>0.014008</td>\n",
              "      <td>1.000000</td>\n",
              "      <td>0.968625</td>\n",
              "      <td>0.467764</td>\n",
              "    </tr>\n",
              "    <tr>\n",
              "      <th>y_pred</th>\n",
              "      <td>-0.090907</td>\n",
              "      <td>0.298467</td>\n",
              "      <td>-0.012326</td>\n",
              "      <td>-0.141687</td>\n",
              "      <td>0.182172</td>\n",
              "      <td>0.001794</td>\n",
              "      <td>0.018198</td>\n",
              "      <td>0.019072</td>\n",
              "      <td>0.968625</td>\n",
              "      <td>1.000000</td>\n",
              "      <td>0.455404</td>\n",
              "    </tr>\n",
              "    <tr>\n",
              "      <th>error</th>\n",
              "      <td>-0.040676</td>\n",
              "      <td>0.050271</td>\n",
              "      <td>0.087872</td>\n",
              "      <td>-0.020861</td>\n",
              "      <td>0.041349</td>\n",
              "      <td>-0.052478</td>\n",
              "      <td>0.106187</td>\n",
              "      <td>0.108519</td>\n",
              "      <td>0.467764</td>\n",
              "      <td>0.455404</td>\n",
              "      <td>1.000000</td>\n",
              "    </tr>\n",
              "  </tbody>\n",
              "</table>\n",
              "</div>"
            ],
            "text/plain": [
              "              Store      Dept  IsHoliday  ...    y_test    y_pred     error\n",
              "Store      1.000000  0.104150   0.006460  ... -0.088993 -0.090907 -0.040676\n",
              "Dept       0.104150  1.000000  -0.009266  ...  0.293243  0.298467  0.050271\n",
              "IsHoliday  0.006460 -0.009266   1.000000  ... -0.025211 -0.012326  0.087872\n",
              "Type       0.205652 -0.019056   0.017146  ... -0.138152 -0.141687 -0.020861\n",
              "Size      -0.212854 -0.028823  -0.014006  ...  0.178773  0.182172  0.041349\n",
              "year      -0.009888  0.014709  -0.096229  ...  0.001620  0.001794 -0.052478\n",
              "month      0.003224 -0.009408   0.203540  ...  0.015768  0.018198  0.106187\n",
              "week       0.002867 -0.009217   0.215940  ...  0.014008  0.019072  0.108519\n",
              "y_test    -0.088993  0.293243  -0.025211  ...  1.000000  0.968625  0.467764\n",
              "y_pred    -0.090907  0.298467  -0.012326  ...  0.968625  1.000000  0.455404\n",
              "error     -0.040676  0.050271   0.087872  ...  0.467764  0.455404  1.000000\n",
              "\n",
              "[11 rows x 11 columns]"
            ]
          },
          "metadata": {},
          "execution_count": 229
        }
      ]
    },
    {
      "cell_type": "code",
      "metadata": {
        "id": "vRIWLkKgJicy"
      },
      "source": [
        ""
      ],
      "execution_count": null,
      "outputs": []
    }
  ]
}