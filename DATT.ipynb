{
  "nbformat": 4,
  "nbformat_minor": 0,
  "metadata": {
    "colab": {
      "name": "DATT.ipynb",
      "provenance": [],
      "collapsed_sections": []
    },
    "kernelspec": {
      "name": "python3",
      "display_name": "Python 3"
    },
    "language_info": {
      "name": "python"
    }
  },
  "cells": [
    {
      "cell_type": "code",
      "metadata": {
        "colab": {
          "base_uri": "https://localhost:8080/"
        },
        "id": "MNN-sSFArAQ1",
        "outputId": "94ce0824-01f2-4817-ac47-9f6a5b7d0878"
      },
      "source": [
        "!wget --header=\"Host: doc-00-14-docs.googleusercontent.com\" --header=\"User-Agent: Mozilla/5.0 (Windows NT 10.0; Win64; x64) AppleWebKit/537.36 (KHTML, like Gecko) Chrome/96.0.4664.110 Safari/537.36\" --header=\"Accept: text/html,application/xhtml+xml,application/xml;q=0.9,image/avif,image/webp,image/apng,*/*;q=0.8,application/signed-exchange;v=b3;q=0.9\" --header=\"Accept-Language: en-US,en;q=0.9\" --header=\"Cookie: AUTH_glh8fmi9goppngvb244pvfpmluc342mq_nonce=h9uf3qegcvl26\" --header=\"Connection: keep-alive\" \"https://doc-00-14-docs.googleusercontent.com/docs/securesc/1l3ul9726mftuj85bnpea3lnean3t71f/1pda3vh3rjaqjspasir6vp4i9n2g7aev/1639677225000/03167207420045571302/03167207420045571302/1QlWBLhERsMWePPtEsnzGm9YAtRqCOJbP?e=download&authuser=0&nonce=h9uf3qegcvl26&user=03167207420045571302&hash=9kbk8alut90nto5fvrfq8ll7j9im4vje\" -c -O 'finalized_model.sav'"
      ],
      "execution_count": 3,
      "outputs": [
        {
          "output_type": "stream",
          "name": "stdout",
          "text": [
            "--2021-12-16 17:57:25--  https://doc-00-14-docs.googleusercontent.com/docs/securesc/1l3ul9726mftuj85bnpea3lnean3t71f/1pda3vh3rjaqjspasir6vp4i9n2g7aev/1639677225000/03167207420045571302/03167207420045571302/1QlWBLhERsMWePPtEsnzGm9YAtRqCOJbP?e=download&authuser=0&nonce=h9uf3qegcvl26&user=03167207420045571302&hash=9kbk8alut90nto5fvrfq8ll7j9im4vje\n",
            "Resolving doc-00-14-docs.googleusercontent.com (doc-00-14-docs.googleusercontent.com)... 108.177.120.132, 2607:f8b0:4001:c18::84\n",
            "Connecting to doc-00-14-docs.googleusercontent.com (doc-00-14-docs.googleusercontent.com)|108.177.120.132|:443... connected.\n",
            "HTTP request sent, awaiting response... 200 OK\n",
            "Length: 1177129152 (1.1G) [application/octet-stream]\n",
            "Saving to: ‘finalized_model.sav’\n",
            "\n",
            "finalized_model.sav 100%[===================>]   1.10G   146MB/s    in 11s     \n",
            "\n",
            "2021-12-16 17:57:35 (107 MB/s) - ‘finalized_model.sav’ saved [1177129152/1177129152]\n",
            "\n"
          ]
        }
      ]
    },
    {
      "cell_type": "code",
      "source": [
        "import pickle"
      ],
      "metadata": {
        "id": "TmOfRqK4EG0d"
      },
      "execution_count": 4,
      "outputs": []
    },
    {
      "cell_type": "code",
      "metadata": {
        "id": "JC0J1PMGeR4_"
      },
      "source": [
        "#RandomForest, ExtraTrees, XGB\n",
        "from sklearn.model_selection import GridSearchCV, RandomizedSearchCV\n",
        "from sklearn.pipeline import Pipeline\n",
        "from sklearn.decomposition import PCA\n",
        "from sklearn.metrics import make_scorer\n",
        "from sklearn.preprocessing import StandardScaler\n",
        "from sklearn.ensemble import RandomForestRegressor, ExtraTreesRegressor\n",
        "from sklearn.neural_network import MLPRegressor\n",
        "from sklearn.neighbors import KNeighborsRegressor\n",
        "from xgboost import XGBRegressor\n",
        "from sklearn.tree import DecisionTreeRegressor\n",
        "from sklearn.model_selection import train_test_split\n",
        "import numpy as np\n",
        "import pandas as pd\n",
        "import matplotlib.pyplot as plt\n",
        "import seaborn as sns\n",
        "import numpy as np\n",
        "from scipy.stats import norm\n",
        "from sklearn.preprocessing import StandardScaler\n",
        "from scipy import stats\n",
        "import warnings\n",
        "warnings.filterwarnings('ignore')\n",
        "%matplotlib inline\n",
        "import pandas_profiling as pan\n",
        "import joblib\n",
        "from sklearn.preprocessing import StandardScaler"
      ],
      "execution_count": 32,
      "outputs": []
    },
    {
      "cell_type": "code",
      "metadata": {
        "id": "Bi6m0N7BelE8"
      },
      "source": [
        "#upload the csv files provided'  "
      ],
      "execution_count": 6,
      "outputs": []
    },
    {
      "cell_type": "code",
      "metadata": {
        "id": "-L2ImIm3q2oC"
      },
      "source": [
        "\n",
        "\n",
        "#the input should be a  dataframe\n",
        "def final(df):\n",
        "    \n",
        "    df = pd.read_csv(df, index_col=0)\n",
        "    filename = 'finalized_model.sav'\n",
        "    loaded_model = joblib.load(filename)\n",
        "   # _____________________________\n",
        "    df = df.drop(['MarkDown1','MarkDown2','MarkDown3','MarkDown4','MarkDown5','Fuel_Price',\"Temperature\",\"CPI\",\"Unemployment\"],axis = 1)\n",
        "    df['IsHoliday']= df['IsHoliday'].map({False:0,True:1})\n",
        "    df['Type'] = df['Type'].map({'A':1,'B':2,'C':3})\n",
        "    df['Date'] = pd.to_datetime(df['Date'], errors='coerce')\n",
        "    df['year'] = df['Date'].dt.year\n",
        "    df['month'] = df['Date'].dt.month\n",
        "    df['week'] = df['Date'].dt.week\n",
        "    dfy = df['Weekly_Sales']\n",
        "    df =df.drop(['Date',\"Weekly_Sales\"],axis = 1)\n",
        "    \n",
        "    m =  loaded_model.predict(df)\n",
        "    weights = df.IsHoliday.apply(lambda x: 5 if x else 1)\n",
        "    j = np.round(np.sum(weights*abs(dfy-m))/(np.sum(weights)), 2)\n",
        "    return m\n",
        "    \n"
      ],
      "execution_count": 48,
      "outputs": []
    },
    {
      "cell_type": "code",
      "source": [
        "final('/content/trial1.csv')"
      ],
      "metadata": {
        "colab": {
          "base_uri": "https://localhost:8080/"
        },
        "id": "ySMjTC2ydIlt",
        "outputId": "06d498b0-b38f-46be-9663-5955ddd1e857"
      },
      "execution_count": 49,
      "outputs": [
        {
          "output_type": "execute_result",
          "data": {
            "text/plain": [
              "array([23547.85190816, 42433.41728869, 41326.02201786, ...,\n",
              "         880.76163095,   890.04056548,   981.6058125 ])"
            ]
          },
          "metadata": {},
          "execution_count": 49
        }
      ]
    },
    {
      "cell_type": "code",
      "metadata": {
        "id": "TXboAuwGr3bF"
      },
      "source": [
        "\n",
        "#the input should be a csv file\n",
        "def finaltwice(df):\n",
        "    filename = 'finalized_model.sav'\n",
        "    loaded_model = joblib.load(filename)\n",
        "    df = pd.read_csv(df, index_col=0)\n",
        "    df = df.drop(['MarkDown1','MarkDown2','MarkDown3','MarkDown4','MarkDown5','Fuel_Price',\"Temperature\",\"CPI\",\"Unemployment\"],axis = 1)\n",
        "    df['IsHoliday']= df['IsHoliday'].map({False:0,True:1})\n",
        "    df['Type'] = df['Type'].map({'A':1,'B':2,'C':3})\n",
        "    df['Date'] = pd.to_datetime(df['Date'], errors='coerce')\n",
        "    df['year'] = df['Date'].dt.year\n",
        "    df['month'] = df['Date'].dt.month\n",
        "    df['week'] = df['Date'].dt.week\n",
        "    dfy = df['Weekly_Sales']\n",
        "    df =df.drop(['Date',\"Weekly_Sales\"],axis = 1)\n",
        "    m =  loaded_model.predict(df)\n",
        "    #the metric\n",
        "    weights = df.IsHoliday.apply(lambda x: 5 if x else 1)\n",
        "    j = np.round(np.sum(weights*abs(dfy-m))/(np.sum(weights)), 2)\n",
        "\n",
        "\n",
        "    return j\n",
        "    \n"
      ],
      "execution_count": 44,
      "outputs": []
    },
    {
      "cell_type": "code",
      "source": [
        ""
      ],
      "metadata": {
        "id": "s4sEcDOI5qWl"
      },
      "execution_count": 45,
      "outputs": []
    },
    {
      "cell_type": "code",
      "source": [
        "WMAE_Score= finaltwice(\"/content/trial1.csv\")\n",
        "print(WMAE_Score)"
      ],
      "metadata": {
        "id": "MSzeMZHZESbO",
        "colab": {
          "base_uri": "https://localhost:8080/"
        },
        "outputId": "d07c640e-9560-40d2-9c2b-71ac03ccb9b0"
      },
      "execution_count": 47,
      "outputs": [
        {
          "output_type": "stream",
          "name": "stdout",
          "text": [
            "651.2\n"
          ]
        }
      ]
    },
    {
      "cell_type": "code",
      "source": [
        ""
      ],
      "metadata": {
        "id": "BWoLLok0dAna"
      },
      "execution_count": 47,
      "outputs": []
    },
    {
      "cell_type": "code",
      "source": [
        ""
      ],
      "metadata": {
        "id": "VUCl7u8jgv9t"
      },
      "execution_count": null,
      "outputs": []
    }
  ]
}